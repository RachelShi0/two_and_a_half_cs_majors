{
 "cells": [
  {
   "cell_type": "code",
   "execution_count": 193,
   "metadata": {},
   "outputs": [],
   "source": [
    "import git\n",
    "import datetime\n",
    "\n",
    "import pandas as pd\n",
    "import numpy as np\n",
    "import tensorflow as tf\n",
    "import matplotlib.pyplot as plt\n",
    "\n",
    "from tensorflow.keras.models import Sequential\n",
    "from tensorflow.keras.layers import Dense\n",
    "from tensorflow.keras.layers import LSTM\n",
    "from tensorflow.keras.preprocessing.sequence import TimeseriesGenerator\n",
    "\n",
    "from cond_rnn import ConditionalRNN\n",
    "\n",
    "from sklearn.preprocessing import OneHotEncoder\n"
   ]
  },
  {
   "cell_type": "code",
   "execution_count": 210,
   "metadata": {},
   "outputs": [],
   "source": [
    "repo = git.Repo(\"./\", search_parent_directories=True)\n",
    "homedir = repo.working_dir"
   ]
  },
  {
   "cell_type": "code",
   "execution_count": 211,
   "metadata": {},
   "outputs": [],
   "source": [
    "#import daily covid cases per county\n",
    "counties_df = pd.read_csv(f\"{homedir}/data/us/covid/nyt_us_counties_daily.csv\")\n",
    "counties_df = counties_df[counties_df['state'].notna()] #drop rows where state is NaN value\n",
    "\n",
    "#convert fips to integer type\n",
    "counties_df = counties_df.astype({'fips': 'int64'})\n",
    "\n",
    "#one hot encode states and add column to dataframe\n",
    "one_hot_encoder = OneHotEncoder(handle_unknown='ignore')\n",
    "states = np.array(counties_df['state']).reshape(-1, 1)\n",
    "one_hot_encoder.fit(states)\n",
    "states_encoded = one_hot_encoder.transform(states).toarray()\n",
    "\n",
    "counties_df['states_encoded'] = states_encoded.tolist() #add column to dataframe\n",
    "\n",
    "#convert date to datetime format\n",
    "counties_df['date'] = pd.to_datetime(counties_df['date'])"
   ]
  },
  {
   "cell_type": "code",
   "execution_count": 212,
   "metadata": {},
   "outputs": [
    {
     "data": {
      "text/html": [
       "<div>\n",
       "<style scoped>\n",
       "    .dataframe tbody tr th:only-of-type {\n",
       "        vertical-align: middle;\n",
       "    }\n",
       "\n",
       "    .dataframe tbody tr th {\n",
       "        vertical-align: top;\n",
       "    }\n",
       "\n",
       "    .dataframe thead th {\n",
       "        text-align: right;\n",
       "    }\n",
       "</style>\n",
       "<table border=\"1\" class=\"dataframe\">\n",
       "  <thead>\n",
       "    <tr style=\"text-align: right;\">\n",
       "      <th></th>\n",
       "      <th>fips</th>\n",
       "      <th>date</th>\n",
       "      <th>county</th>\n",
       "      <th>state</th>\n",
       "      <th>cases</th>\n",
       "      <th>deaths</th>\n",
       "      <th>states_encoded</th>\n",
       "    </tr>\n",
       "  </thead>\n",
       "  <tbody>\n",
       "    <tr>\n",
       "      <td>0</td>\n",
       "      <td>53061</td>\n",
       "      <td>2020-01-21</td>\n",
       "      <td>Snohomish</td>\n",
       "      <td>Washington</td>\n",
       "      <td>1.0</td>\n",
       "      <td>0.0</td>\n",
       "      <td>[0.0, 0.0, 0.0, 0.0, 0.0, 0.0, 0.0, 0.0, 0.0, ...</td>\n",
       "    </tr>\n",
       "    <tr>\n",
       "      <td>1</td>\n",
       "      <td>53061</td>\n",
       "      <td>2020-01-22</td>\n",
       "      <td>Snohomish</td>\n",
       "      <td>Washington</td>\n",
       "      <td>0.0</td>\n",
       "      <td>0.0</td>\n",
       "      <td>[0.0, 0.0, 0.0, 0.0, 0.0, 0.0, 0.0, 0.0, 0.0, ...</td>\n",
       "    </tr>\n",
       "    <tr>\n",
       "      <td>2</td>\n",
       "      <td>53061</td>\n",
       "      <td>2020-01-23</td>\n",
       "      <td>Snohomish</td>\n",
       "      <td>Washington</td>\n",
       "      <td>0.0</td>\n",
       "      <td>0.0</td>\n",
       "      <td>[0.0, 0.0, 0.0, 0.0, 0.0, 0.0, 0.0, 0.0, 0.0, ...</td>\n",
       "    </tr>\n",
       "    <tr>\n",
       "      <td>3</td>\n",
       "      <td>53061</td>\n",
       "      <td>2020-01-24</td>\n",
       "      <td>Snohomish</td>\n",
       "      <td>Washington</td>\n",
       "      <td>0.0</td>\n",
       "      <td>0.0</td>\n",
       "      <td>[0.0, 0.0, 0.0, 0.0, 0.0, 0.0, 0.0, 0.0, 0.0, ...</td>\n",
       "    </tr>\n",
       "    <tr>\n",
       "      <td>4</td>\n",
       "      <td>53061</td>\n",
       "      <td>2020-01-25</td>\n",
       "      <td>Snohomish</td>\n",
       "      <td>Washington</td>\n",
       "      <td>0.0</td>\n",
       "      <td>0.0</td>\n",
       "      <td>[0.0, 0.0, 0.0, 0.0, 0.0, 0.0, 0.0, 0.0, 0.0, ...</td>\n",
       "    </tr>\n",
       "  </tbody>\n",
       "</table>\n",
       "</div>"
      ],
      "text/plain": [
       "    fips       date     county       state  cases  deaths  \\\n",
       "0  53061 2020-01-21  Snohomish  Washington    1.0     0.0   \n",
       "1  53061 2020-01-22  Snohomish  Washington    0.0     0.0   \n",
       "2  53061 2020-01-23  Snohomish  Washington    0.0     0.0   \n",
       "3  53061 2020-01-24  Snohomish  Washington    0.0     0.0   \n",
       "4  53061 2020-01-25  Snohomish  Washington    0.0     0.0   \n",
       "\n",
       "                                      states_encoded  \n",
       "0  [0.0, 0.0, 0.0, 0.0, 0.0, 0.0, 0.0, 0.0, 0.0, ...  \n",
       "1  [0.0, 0.0, 0.0, 0.0, 0.0, 0.0, 0.0, 0.0, 0.0, ...  \n",
       "2  [0.0, 0.0, 0.0, 0.0, 0.0, 0.0, 0.0, 0.0, 0.0, ...  \n",
       "3  [0.0, 0.0, 0.0, 0.0, 0.0, 0.0, 0.0, 0.0, 0.0, ...  \n",
       "4  [0.0, 0.0, 0.0, 0.0, 0.0, 0.0, 0.0, 0.0, 0.0, ...  "
      ]
     },
     "execution_count": 212,
     "metadata": {},
     "output_type": "execute_result"
    }
   ],
   "source": [
    "counties_df.head()"
   ]
  },
  {
   "cell_type": "code",
   "execution_count": 213,
   "metadata": {},
   "outputs": [],
   "source": [
    "#import populations\n",
    "populations_df = pd.read_csv(f\"{homedir}/data/us/demographics/county_populations.csv\")\n",
    "populations_df.rename(columns={'FIPS': 'fips'}, inplace = True)"
   ]
  },
  {
   "cell_type": "code",
   "execution_count": 214,
   "metadata": {},
   "outputs": [],
   "source": [
    "#import education levels\n",
    "education_df = pd.read_csv(f\"{homedir}/data/us/demographics/education.csv\")\n",
    "education_df = education_df[['FIPS', 'Percent of adults with less than a high school diploma, 2014-18', 'Percent of adults with a high school diploma only, 2014-18', 'Percent of adults completing some college or associate\\'s degree, 2014-18', 'Percent of adults with a bachelor\\'s degree or higher, 2014-18']]\n",
    "education_df.rename(columns={'FIPS': 'fips'}, inplace = True)"
   ]
  },
  {
   "cell_type": "code",
   "execution_count": 215,
   "metadata": {},
   "outputs": [],
   "source": [
    "mobility_df = pd.read_csv(f\"{homedir}/data/us/mobility/DL-us-mobility-daterow.csv\")\n",
    "mobility_df = mobility_df[mobility_df['country_code'] == 'US']\n",
    "mobility_df['date'] = pd.to_datetime(mobility_df['date'])"
   ]
  },
  {
   "cell_type": "code",
   "execution_count": null,
   "metadata": {},
   "outputs": [],
   "source": []
  },
  {
   "cell_type": "code",
   "execution_count": 219,
   "metadata": {},
   "outputs": [
    {
     "data": {
      "text/plain": [
       "Timestamp('2020-04-27 00:00:00')"
      ]
     },
     "execution_count": 219,
     "metadata": {},
     "output_type": "execute_result"
    }
   ],
   "source": [
    "max(mobility_df['date'])"
   ]
  },
  {
   "cell_type": "code",
   "execution_count": 218,
   "metadata": {},
   "outputs": [
    {
     "data": {
      "text/plain": [
       "0        2020-01-21\n",
       "1        2020-01-22\n",
       "2        2020-01-23\n",
       "3        2020-01-24\n",
       "4        2020-01-25\n",
       "            ...    \n",
       "137483   2020-04-29\n",
       "137484   2020-04-29\n",
       "137485   2020-04-29\n",
       "137486   2020-04-29\n",
       "137487   2020-04-29\n",
       "Name: date, Length: 100577, dtype: datetime64[ns]"
      ]
     },
     "execution_count": 218,
     "metadata": {},
     "output_type": "execute_result"
    }
   ],
   "source": [
    "counties_df['date']"
   ]
  },
  {
   "cell_type": "code",
   "execution_count": 220,
   "metadata": {},
   "outputs": [],
   "source": [
    "#merge population/education with original counties data\n",
    "counties_df = counties_df.merge(populations_df, how = 'left', on = 'fips')\n",
    "counties_df = counties_df.merge(education_df, how = 'left', on = 'fips')\n",
    "counties_df = counties_df.merge(mobility_df, how = 'left', on = ['fips', 'date'])"
   ]
  },
  {
   "cell_type": "code",
   "execution_count": 234,
   "metadata": {},
   "outputs": [],
   "source": [
    "counties_df['m50'] = counties_df['m50'].fillna(0)\n",
    "counties_df['m50_index'] = counties_df['m50_index'].fillna(0)\n",
    "counties_df['samples'] = counties_df['samples'].fillna(0)\n",
    "counties_df = counties_df.drop(['country_code', 'admin_level', 'admin1', 'admin2'], axis = 1)"
   ]
  },
  {
   "cell_type": "code",
   "execution_count": 164,
   "metadata": {},
   "outputs": [],
   "source": [
    "#preprocessing functions \n",
    "\n",
    "def minmax_scaler(x): \n",
    "    if max(x) == min(x):\n",
    "        return x, min(x), max(x)\n",
    "    else:\n",
    "        scaled_x = (x - min(x))/(max(x) - min(x))\n",
    "        return scaled_x, min(x), max(x)\n",
    "    \n",
    "def piecewise_log(arr):\n",
    "    arr[arr == 0] = 1\n",
    "    return np.log(arr)"
   ]
  },
  {
   "cell_type": "code",
   "execution_count": 237,
   "metadata": {},
   "outputs": [],
   "source": [
    "def moving_avg_np_array(data, n):\n",
    "    data_size = len(data)\n",
    "    avg = np.zeros(data_size)\n",
    "    moving_sum = 0;\n",
    "    # for the first  n-1 points, just copy the data over to the\n",
    "    # moving avg list\n",
    "    for i in range(n-1):\n",
    "        avg[i] = data[i]\n",
    "        moving_sum += data[i] / n\n",
    "    # for the rest of the points sum over the previous n data points\n",
    "    #  (including current data point)\n",
    "    for i in range(n-1, len(data)):\n",
    "        moving_sum += data[i] / n\n",
    "        avg[i] = moving_sum\n",
    "        moving_sum -= data[i - (n-1)] / n\n",
    "    return avg"
   ]
  },
  {
   "cell_type": "code",
   "execution_count": 258,
   "metadata": {},
   "outputs": [
    {
     "data": {
      "image/png": "[encoded data removed]",
      "text/plain": [
       "<Figure size 432x288 with 1 Axes>"
      ]
     },
     "metadata": {
      "needs_background": "light"
     },
     "output_type": "display_data"
    },
    {
     "data": {
      "text/plain": [
       "<Figure size 432x288 with 0 Axes>"
      ]
     },
     "metadata": {},
     "output_type": "display_data"
    }
   ],
   "source": [
    "#initialize lists\n",
    "inputs_total = []\n",
    "conditions_total = []\n",
    "\n",
    "train_inputs = []\n",
    "train_targets = []\n",
    "train_conditions = []\n",
    "\n",
    "test_inputs = []\n",
    "test_targets = []\n",
    "test_conditions = []\n",
    "\n",
    "fips = set(np.array(counties_df['fips'])) #list of unique fips\n",
    "\n",
    "dateshift = 35 #so here the first 35 days are like all 0 so i shifted the data we're interested in back by 35 days\n",
    "daterange = pd.date_range(min(counties_df['date'] + datetime.timedelta(days = dateshift)),\n",
    "                          max(counties_df['date'])).tolist() #range of dates \n",
    "\n",
    "split_point = int(len(daterange) * 0.8) #for splitting into training and testing data\n",
    "\n",
    "\n",
    "fips_fewcases = [] #store fips of cases that are too few to model\n",
    "fips_manycases = [] #store fips of cases that we are modeling with RNN\n",
    "\n",
    "for j in range(len(fips)): #iterate through counties \n",
    "    i = fips[j]\n",
    "    if j % 500 == 0:\n",
    "        print('FIPS processed: ' + str(j) + '/' + str(len(fips)) )\n",
    "    c_df = counties_df[counties_df['fips'] == i] #county specific dataframe\n",
    "            \n",
    "    if max(c_df['deaths']) <= 2: #don't do anything if there are too few cases \n",
    "        fips_fewcases.append(i)\n",
    "    \n",
    "    elif max(c_df['deaths']) > 2:\n",
    "        fips_manycases.append(i)\n",
    "        \n",
    "        x1 = np.zeros(len(daterange)) #x1 stores cases\n",
    "        x2 = np.zeros(len(daterange)) #x2 stores deaths\n",
    "        x3 = np.zeros(len(daterange)) #x3 stores mobility(m50)\n",
    "\n",
    "        c_daterange = c_df['date'].tolist() #daterange for this specific counties\n",
    "\n",
    "        for j in range(len(daterange)): #populating time series data for each county\n",
    "            if daterange[j] in c_daterange: #if there is data for the county for this date, populate x1 and x2\n",
    "                x1[j] = c_df[c_df['date'] == daterange[j]]['cases'].values[0]\n",
    "                x2[j] = c_df[c_df['date'] == daterange[j]]['deaths'].values[0]\n",
    "                x3[j] = c_df[c_df['date'] == daterange[j]]['m50'].values[0]\n",
    "\n",
    "        #x3 = moving_avg_np_array(x3, 5)\n",
    "        \n",
    "        days = np.arange(0, len(x1)) #range of days... to indicate progression of disease?\n",
    "        \n",
    "        plt.plot(days, x2) #plot deaths\n",
    "        \n",
    "        x = np.stack((piecewise_log(x1), piecewise_log(x2), days, x3), axis = 1) #construct input data\n",
    "        \n",
    "        x_train = x[:split_point] #split into training and testing\n",
    "        x_test = x[split_point:]\n",
    "        \n",
    "        inputs_total.append(x)\n",
    "        \n",
    "        #construct conditions... one hot encoded states\n",
    "        state = counties_df[counties_df['fips'] == i]['states_encoded'].values[0]\n",
    "        pop = counties_df[counties_df['fips'] == i]['total_pop'].values[0]\n",
    "        pop60 = counties_df[counties_df['fips'] == i]['60plus'].values[0]\n",
    "        \n",
    "        edu1 = counties_df[counties_df['fips'] == i]['Percent of adults with less than a high school diploma, 2014-18'].values[0]\n",
    "        edu2 = counties_df[counties_df['fips'] == i]['Percent of adults with a high school diploma only, 2014-18'].values[0]\n",
    "        edu3 = counties_df[counties_df['fips'] == i]['Percent of adults completing some college or associate\\'s degree, 2014-18'].values[0]\n",
    "        edu4 = counties_df[counties_df['fips'] == i]['Percent of adults with a bachelor\\'s degree or higher, 2014-18'].values[0]\n",
    "        \n",
    "        cond_list = state + [np.log(pop), np.log(pop60), edu1/100, edu2/100, edu3/100, edu4/100]\n",
    "        \n",
    "        conditions_total.append(np.array(cond_list))\n",
    "        \n",
    "        #break up into little batch thingies\n",
    "        data_gen_train = TimeseriesGenerator(x_train, x_train,\n",
    "                                       length=10, sampling_rate=1,\n",
    "                                       batch_size=2)\n",
    "        \n",
    "        data_gen_test = TimeseriesGenerator(x_test, x_test,\n",
    "                                       length=10, sampling_rate=1,\n",
    "                                       batch_size=2)\n",
    "\n",
    "        #construct training data\n",
    "        for k in range(len(data_gen_train)):\n",
    "            x_b, y_b = data_gen_train[k]\n",
    "            \n",
    "            for l in range(len(x_b)):\n",
    "\n",
    "                x_batch = x_b[l]\n",
    "                y_batch = y_b[l]\n",
    "                \n",
    "                train_inputs.append(x_batch)\n",
    "                train_targets.append(y_batch)\n",
    "\n",
    "                #conditions   \n",
    "                train_conditions.append(np.array(cond_list))\n",
    "        \n",
    "        #construct test data\n",
    "        for k in range(len(data_gen_test)):\n",
    "            x_b, y_b = data_gen_test[k]\n",
    "            \n",
    "            for l in range(len(x_b)):\n",
    "\n",
    "                x_batch = x_b[l]\n",
    "                y_batch = y_b[l]\n",
    "                \n",
    "                test_inputs.append(x_batch)\n",
    "                test_targets.append(y_batch)\n",
    "\n",
    "                #conditions   \n",
    "                test_conditions.append(np.array(cond_list))\n",
    "\n",
    "plt.title('Deaths over time in each county')\n",
    "plt.figure()\n",
    "                \n",
    "#make things into arrays\n",
    "test_inputs = np.array(test_inputs)\n",
    "test_targets = np.array(test_targets)\n",
    "test_conditions = np.array(test_conditions)\n",
    "\n",
    "train_inputs = np.array(train_inputs)\n",
    "train_targets = np.array(train_targets)\n",
    "train_conditions = np.array(train_conditions)\n",
    "\n",
    "inputs_total = np.array(inputs_total)\n",
    "conditions_total = np.array(conditions_total)"
   ]
  },
  {
   "cell_type": "code",
   "execution_count": 260,
   "metadata": {},
   "outputs": [
    {
     "name": "stdout",
     "output_type": "stream",
     "text": [
      "(16842, 10, 4)\n",
      "(16842, 4)\n",
      "(16842, 58)\n"
     ]
    }
   ],
   "source": [
    "print(train_inputs.shape)\n",
    "print(train_targets.shape)\n",
    "print(train_conditions.shape)"
   ]
  },
  {
   "cell_type": "code",
   "execution_count": 261,
   "metadata": {},
   "outputs": [
    {
     "name": "stdout",
     "output_type": "stream",
     "text": [
      "(1203, 10, 4)\n",
      "(1203, 4)\n",
      "(1203, 58)\n"
     ]
    }
   ],
   "source": [
    "print(test_inputs.shape)\n",
    "print(test_targets.shape)\n",
    "print(test_conditions.shape)"
   ]
  },
  {
   "cell_type": "code",
   "execution_count": 262,
   "metadata": {},
   "outputs": [],
   "source": [
    "#if we ever need to invert minmax but i dont think we should use it\n",
    "def inverse_minmax(scaled_x, min_x, max_x):\n",
    "    if max(x) == min(x):\n",
    "        return x, min(x), max(x)\n",
    "    else:\n",
    "        unscaled_x = scaled_x * (max_x - min_x) + min_x\n",
    "        return unscaled_x, min_x, max_x"
   ]
  },
  {
   "cell_type": "code",
   "execution_count": 263,
   "metadata": {},
   "outputs": [
    {
     "name": "stdout",
     "output_type": "stream",
     "text": [
      "WARNING:tensorflow:Layer dense_150 is casting an input tensor from dtype float64 to the layer's dtype of float32, which is new behavior in TensorFlow 2.  The layer has dtype float32 because it's dtype defaults to floatx.\n",
      "\n",
      "If you intended to run this layer in float32, you can safely ignore this warning. If in doubt, this warning is likely only an issue if you are porting a TensorFlow 1.X model to TensorFlow 2.\n",
      "\n",
      "To change all layers to have dtype float64 by default, call `tf.keras.backend.set_floatx('float64')`. To change just this layer, pass dtype='float64' to the layer constructor. If you are the author of this layer, you can disable autocasting by passing autocast=False to the base Layer constructor.\n",
      "\n",
      "WARNING:tensorflow:Layer dense_162 is casting an input tensor from dtype float64 to the layer's dtype of float32, which is new behavior in TensorFlow 2.  The layer has dtype float32 because it's dtype defaults to floatx.\n",
      "\n",
      "If you intended to run this layer in float32, you can safely ignore this warning. If in doubt, this warning is likely only an issue if you are porting a TensorFlow 1.X model to TensorFlow 2.\n",
      "\n",
      "To change all layers to have dtype float64 by default, call `tf.keras.backend.set_floatx('float64')`. To change just this layer, pass dtype='float64' to the layer constructor. If you are the author of this layer, you can disable autocasting by passing autocast=False to the base Layer constructor.\n",
      "\n",
      "Train on 16842 samples, validate on 1203 samples\n",
      "Epoch 1/10\n",
      "16842/16842 [==============================] - 37s 2ms/sample - loss: 49.7579 - val_loss: 138.0914\n",
      "Epoch 2/10\n",
      "16842/16842 [==============================] - 29s 2ms/sample - loss: 2.5416 - val_loss: 68.3632\n",
      "Epoch 3/10\n",
      "16842/16842 [==============================] - 25s 2ms/sample - loss: 1.2121 - val_loss: 49.5048\n",
      "Epoch 4/10\n",
      "16842/16842 [==============================] - 29s 2ms/sample - loss: 0.9145 - val_loss: 40.7955\n",
      "Epoch 5/10\n",
      "16842/16842 [==============================] - 29s 2ms/sample - loss: 0.7806 - val_loss: 36.8637\n",
      "Epoch 6/10\n",
      "16842/16842 [==============================] - 34s 2ms/sample - loss: 0.7375 - val_loss: 33.1720\n",
      "Epoch 7/10\n",
      "16842/16842 [==============================] - 26s 2ms/sample - loss: 0.7178 - val_loss: 29.1301\n",
      "Epoch 8/10\n",
      "16842/16842 [==============================] - 28s 2ms/sample - loss: 0.6806 - val_loss: 29.8948\n",
      "Epoch 9/10\n",
      "16842/16842 [==============================] - 26s 2ms/sample - loss: 0.6517 - val_loss: 26.6668\n",
      "Epoch 10/10\n",
      "16842/16842 [==============================] - 22s 1ms/sample - loss: 0.6401 - val_loss: 26.2144\n",
      "Evaluating model:\n",
      "1203/1203 [==============================] - 0s 332us/sample - loss: 26.2144\n"
     ]
    },
    {
     "data": {
      "text/plain": [
       "26.214424647000662"
      ]
     },
     "execution_count": 263,
     "metadata": {},
     "output_type": "execute_result"
    }
   ],
   "source": [
    "#construct RNN\n",
    "class MySimpleModel(tf.keras.Model):\n",
    "    def __init__(self):\n",
    "        super(MySimpleModel, self).__init__() #allows you to inherit methods from tf.keras.Model I think\n",
    "        self.cond = ConditionalRNN(20, cell='LSTM', dtype=tf.float32, return_sequences=True)\n",
    "        self.cond2 = ConditionalRNN(12, cell='LSTM', dtype=tf.float32)\n",
    "    \n",
    "        self.out = tf.keras.layers.Dense(units=4)\n",
    "\n",
    "    def call(self, inputs, **kwargs):\n",
    "        x, cond = inputs\n",
    "        o = self.cond([x, cond])\n",
    "        o = self.cond2([o, cond])\n",
    "        o = self.out(o)\n",
    "        return o\n",
    "\n",
    "model = MySimpleModel()\n",
    "\n",
    "optimizer = tf.keras.optimizers.Adam(learning_rate=0.01)\n",
    "model.call([train_inputs, train_conditions])\n",
    "model.compile(optimizer=optimizer, loss='mean_squared_error')\n",
    "history = model.fit(x=[train_inputs, train_conditions], y= train_targets, \n",
    "                    validation_data=([test_inputs, test_conditions], test_targets), epochs=10)\n",
    "\n",
    "print('Evaluating model:')\n",
    "model.evaluate([test_inputs, test_conditions], test_targets)"
   ]
  },
  {
   "cell_type": "code",
   "execution_count": 248,
   "metadata": {},
   "outputs": [
    {
     "data": {
      "image/png": "[encoded data removed]",
      "text/plain": [
       "<Figure size 432x288 with 1 Axes>"
      ]
     },
     "metadata": {
      "needs_background": "light"
     },
     "output_type": "display_data"
    }
   ],
   "source": [
    "#plot loss \n",
    "plt.plot(history.history['loss'], label='train')\n",
    "plt.plot(history.history['val_loss'], label='test')\n",
    "plt.legend()\n",
    "plt.title('Loss')\n",
    "plt.show()"
   ]
  },
  {
   "cell_type": "code",
   "execution_count": 249,
   "metadata": {},
   "outputs": [
    {
     "name": "stdout",
     "output_type": "stream",
     "text": [
      "(16842, 10, 4)\n",
      "(16842, 4)\n",
      "(16842, 4)\n"
     ]
    }
   ],
   "source": [
    "y = model.predict([train_inputs, train_conditions])\n",
    "print(train_inputs.shape)\n",
    "print(y.shape)\n",
    "print(train_targets.shape)"
   ]
  },
  {
   "cell_type": "code",
   "execution_count": 250,
   "metadata": {},
   "outputs": [
    {
     "data": {
      "image/png": "[encoded data removed]",
      "text/plain": [
       "<Figure size 432x288 with 1 Axes>"
      ]
     },
     "metadata": {
      "needs_background": "light"
     },
     "output_type": "display_data"
    }
   ],
   "source": [
    "#plot the predicted output to get an idea of what kind of values the model is producing\n",
    "plt.hist(y[:, 0])\n",
    "plt.title('Histogram of predicted value from training data')\n",
    "plt.show()"
   ]
  },
  {
   "cell_type": "code",
   "execution_count": 251,
   "metadata": {},
   "outputs": [],
   "source": [
    "#function for generating predictions T timesteps into the future \n",
    "#for county with index k\n",
    "\n",
    "def generate_predictions(model, inputs_total, conditions_total, T, k):\n",
    "    \n",
    "    inputs = inputs_total[k]\n",
    "    conditions = conditions_total\n",
    "    \n",
    "    y_predict = model.predict([[inputs], [conditions[k, :]]])\n",
    "    prediction = np.array([y_predict])\n",
    "    inputs = np.append(inputs, np.array(y_predict), axis = 0)\n",
    "    \n",
    "    print('Generating predictions:')\n",
    "    for i in range(T):\n",
    "        \n",
    "        y_predict = model.predict([[inputs], [conditions[k, :]]])\n",
    "        inputs = np.append(inputs, np.array(y_predict), axis = 0)\n",
    "        prediction = np.append(prediction, [y_predict], axis = 0)\n",
    "        \n",
    "    return inputs, prediction "
   ]
  },
  {
   "cell_type": "code",
   "execution_count": 254,
   "metadata": {
    "scrolled": false
   },
   "outputs": [
    {
     "name": "stdout",
     "output_type": "stream",
     "text": [
      "WARNING:tensorflow:Your input ran out of data; interrupting training. Make sure that your dataset or generator can generate at least `steps_per_epoch * epochs` batches (in this case, 2 batches). You may need to use the repeat() function when building your dataset.\n",
      "Generating predictions:\n",
      "WARNING:tensorflow:Your input ran out of data; interrupting training. Make sure that your dataset or generator can generate at least `steps_per_epoch * epochs` batches (in this case, 2 batches). You may need to use the repeat() function when building your dataset.\n",
      "WARNING:tensorflow:Your input ran out of data; interrupting training. Make sure that your dataset or generator can generate at least `steps_per_epoch * epochs` batches (in this case, 2 batches). You may need to use the repeat() function when building your dataset.\n",
      "WARNING:tensorflow:Your input ran out of data; interrupting training. Make sure that your dataset or generator can generate at least `steps_per_epoch * epochs` batches (in this case, 2 batches). You may need to use the repeat() function when building your dataset.\n",
      "WARNING:tensorflow:Your input ran out of data; interrupting training. Make sure that your dataset or generator can generate at least `steps_per_epoch * epochs` batches (in this case, 2 batches). You may need to use the repeat() function when building your dataset.\n",
      "WARNING:tensorflow:Your input ran out of data; interrupting training. Make sure that your dataset or generator can generate at least `steps_per_epoch * epochs` batches (in this case, 2 batches). You may need to use the repeat() function when building your dataset.\n",
      "WARNING:tensorflow:Your input ran out of data; interrupting training. Make sure that your dataset or generator can generate at least `steps_per_epoch * epochs` batches (in this case, 2 batches). You may need to use the repeat() function when building your dataset.\n",
      "WARNING:tensorflow:Your input ran out of data; interrupting training. Make sure that your dataset or generator can generate at least `steps_per_epoch * epochs` batches (in this case, 2 batches). You may need to use the repeat() function when building your dataset.\n",
      "WARNING:tensorflow:Your input ran out of data; interrupting training. Make sure that your dataset or generator can generate at least `steps_per_epoch * epochs` batches (in this case, 2 batches). You may need to use the repeat() function when building your dataset.\n",
      "WARNING:tensorflow:Your input ran out of data; interrupting training. Make sure that your dataset or generator can generate at least `steps_per_epoch * epochs` batches (in this case, 2 batches). You may need to use the repeat() function when building your dataset.\n",
      "WARNING:tensorflow:Your input ran out of data; interrupting training. Make sure that your dataset or generator can generate at least `steps_per_epoch * epochs` batches (in this case, 2 batches). You may need to use the repeat() function when building your dataset.\n",
      "WARNING:tensorflow:Your input ran out of data; interrupting training. Make sure that your dataset or generator can generate at least `steps_per_epoch * epochs` batches (in this case, 2 batches). You may need to use the repeat() function when building your dataset.\n",
      "WARNING:tensorflow:Your input ran out of data; interrupting training. Make sure that your dataset or generator can generate at least `steps_per_epoch * epochs` batches (in this case, 2 batches). You may need to use the repeat() function when building your dataset.\n"
     ]
    },
    {
     "data": {
      "text/plain": [
       "<function matplotlib.pyplot.figure(num=None, figsize=None, dpi=None, facecolor=None, edgecolor=None, frameon=True, FigureClass=<class 'matplotlib.figure.Figure'>, clear=False, **kwargs)>"
      ]
     },
     "execution_count": 254,
     "metadata": {},
     "output_type": "execute_result"
    },
    {
     "data": {
      "image/png": "[encoded data removed]",
      "text/plain": [
       "<Figure size 432x288 with 1 Axes>"
      ]
     },
     "metadata": {
      "needs_background": "light"
     },
     "output_type": "display_data"
    }
   ],
   "source": [
    "#ind = 349\n",
    "ind = 31\n",
    "\n",
    "county_title = counties_df[counties_df['fips'] == fips_manycases[ind]]['county'].values[0]\n",
    "\n",
    "I, P = generate_predictions(model, inputs_total[:, :split_point, :], conditions_total, 12, ind)\n",
    "\n",
    "plt.plot(range(len(I)), I[:, 1], label = 'predicted value')\n",
    "plt.plot(range(split_point - 1, len(I)), inputs_total[ind, split_point - 1:, 1], label = 'true value')\n",
    "plt.title(county_title + ' predictions')\n",
    "plt.legend()\n",
    "plt.figure"
   ]
  },
  {
   "cell_type": "code",
   "execution_count": 257,
   "metadata": {},
   "outputs": [
    {
     "name": "stdout",
     "output_type": "stream",
     "text": [
      "WARNING:tensorflow:Your input ran out of data; interrupting training. Make sure that your dataset or generator can generate at least `steps_per_epoch * epochs` batches (in this case, 2 batches). You may need to use the repeat() function when building your dataset.\n",
      "Generating predictions:\n",
      "WARNING:tensorflow:Your input ran out of data; interrupting training. Make sure that your dataset or generator can generate at least `steps_per_epoch * epochs` batches (in this case, 2 batches). You may need to use the repeat() function when building your dataset.\n",
      "WARNING:tensorflow:Your input ran out of data; interrupting training. Make sure that your dataset or generator can generate at least `steps_per_epoch * epochs` batches (in this case, 2 batches). You may need to use the repeat() function when building your dataset.\n",
      "WARNING:tensorflow:Your input ran out of data; interrupting training. Make sure that your dataset or generator can generate at least `steps_per_epoch * epochs` batches (in this case, 2 batches). You may need to use the repeat() function when building your dataset.\n",
      "WARNING:tensorflow:Your input ran out of data; interrupting training. Make sure that your dataset or generator can generate at least `steps_per_epoch * epochs` batches (in this case, 2 batches). You may need to use the repeat() function when building your dataset.\n",
      "WARNING:tensorflow:Your input ran out of data; interrupting training. Make sure that your dataset or generator can generate at least `steps_per_epoch * epochs` batches (in this case, 2 batches). You may need to use the repeat() function when building your dataset.\n",
      "WARNING:tensorflow:Your input ran out of data; interrupting training. Make sure that your dataset or generator can generate at least `steps_per_epoch * epochs` batches (in this case, 2 batches). You may need to use the repeat() function when building your dataset.\n",
      "WARNING:tensorflow:Your input ran out of data; interrupting training. Make sure that your dataset or generator can generate at least `steps_per_epoch * epochs` batches (in this case, 2 batches). You may need to use the repeat() function when building your dataset.\n",
      "WARNING:tensorflow:Your input ran out of data; interrupting training. Make sure that your dataset or generator can generate at least `steps_per_epoch * epochs` batches (in this case, 2 batches). You may need to use the repeat() function when building your dataset.\n",
      "WARNING:tensorflow:Your input ran out of data; interrupting training. Make sure that your dataset or generator can generate at least `steps_per_epoch * epochs` batches (in this case, 2 batches). You may need to use the repeat() function when building your dataset.\n",
      "WARNING:tensorflow:Your input ran out of data; interrupting training. Make sure that your dataset or generator can generate at least `steps_per_epoch * epochs` batches (in this case, 2 batches). You may need to use the repeat() function when building your dataset.\n",
      "WARNING:tensorflow:Your input ran out of data; interrupting training. Make sure that your dataset or generator can generate at least `steps_per_epoch * epochs` batches (in this case, 2 batches). You may need to use the repeat() function when building your dataset.\n",
      "WARNING:tensorflow:Your input ran out of data; interrupting training. Make sure that your dataset or generator can generate at least `steps_per_epoch * epochs` batches (in this case, 2 batches). You may need to use the repeat() function when building your dataset.\n"
     ]
    },
    {
     "data": {
      "text/plain": [
       "<function matplotlib.pyplot.figure(num=None, figsize=None, dpi=None, facecolor=None, edgecolor=None, frameon=True, FigureClass=<class 'matplotlib.figure.Figure'>, clear=False, **kwargs)>"
      ]
     },
     "execution_count": 257,
     "metadata": {},
     "output_type": "execute_result"
    },
    {
     "data": {
      "image/png": "[encoded data removed]",
      "text/plain": [
       "<Figure size 432x288 with 1 Axes>"
      ]
     },
     "metadata": {
      "needs_background": "light"
     },
     "output_type": "display_data"
    }
   ],
   "source": [
    "ind = 100\n",
    "\n",
    "county_title = counties_df[counties_df['fips'] == fips_manycases[ind]]['county'].values[0]\n",
    "\n",
    "I, P = generate_predictions(model, inputs_total[:, :split_point, :], conditions_total, 12, ind)\n",
    "\n",
    "plt.plot(range(len(I)), I[:, 1], label = 'predicted value')\n",
    "plt.plot(range(split_point - 1, len(I)), inputs_total[ind, split_point - 1:, 1], label = 'true value')\n",
    "plt.title(county_title + ' predictions')\n",
    "plt.legend()\n",
    "plt.figure"
   ]
  },
  {
   "cell_type": "code",
   "execution_count": null,
   "metadata": {},
   "outputs": [],
   "source": []
  }
 ],
 "metadata": {
  "kernelspec": {
   "display_name": "Python 3",
   "language": "python",
   "name": "python3"
  },
  "language_info": {
   "codemirror_mode": {
    "name": "ipython",
    "version": 3
   },
   "file_extension": ".py",
   "mimetype": "text/x-python",
   "name": "python",
   "nbconvert_exporter": "python",
   "pygments_lexer": "ipython3",
   "version": "3.7.4"
  }
 },
 "nbformat": 4,
 "nbformat_minor": 2
}
