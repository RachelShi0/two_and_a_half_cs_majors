{
 "cells": [
  {
   "cell_type": "code",
   "execution_count": 1,
   "metadata": {},
   "outputs": [],
   "source": [
    "import git\n",
    "import pandas as pd\n",
    "import numpy as np\n",
    "import scipy.integrate\n",
    "\n",
    "\n",
    "import bokeh.io\n",
    "import bokeh.application\n",
    "import bokeh.application.handlers\n",
    "import bokeh.models\n",
    "\n",
    "\n",
    "import holoviews as hv\n",
    "\n",
    "import matplotlib.pyplot as plt"
   ]
  },
  {
   "cell_type": "code",
   "execution_count": 2,
   "metadata": {},
   "outputs": [],
   "source": [
    "repo = git.Repo(\"./\", search_parent_directories=True)\n",
    "homedir = repo.working_dir\n",
    "datadir = f\"{homedir}/data/us/\""
   ]
  },
  {
   "cell_type": "code",
   "execution_count": 50,
   "metadata": {},
   "outputs": [
    {
     "data": {
      "text/plain": [
       "Index(['countyFIPS', 'County Name', 'State', 'stateFIPS', '1/22/20', '1/23/20',\n",
       "       '1/24/20', '1/25/20', '1/26/20', '1/27/20', '1/28/20', '1/29/20',\n",
       "       '1/30/20', '1/31/20', '2/1/20', '2/2/20', '2/3/20', '2/4/20', '2/5/20',\n",
       "       '2/6/20', '2/7/20', '2/8/20', '2/9/20', '2/10/20', '2/11/20', '2/12/20',\n",
       "       '2/13/20', '2/14/20', '2/15/20', '2/16/20', '2/17/20', '2/18/20',\n",
       "       '2/19/20', '2/20/20', '2/21/20', '2/22/20', '2/23/20', '2/24/20',\n",
       "       '2/25/20', '2/26/20', '2/27/20', '2/28/20', '2/29/20', '3/1/20',\n",
       "       '3/2/20', '3/3/20', '3/4/20', '3/5/20', '3/6/20', '3/7/20', '3/8/20',\n",
       "       '3/9/20', '3/10/20', '3/11/20', '3/12/20', '3/13/20', '3/14/20',\n",
       "       '3/15/20', '3/16/20', '3/17/20', '3/18/20', '3/19/20', '3/20/20',\n",
       "       '3/21/20', '3/22/20', '3/23/20', '3/24/20', '3/25/20', '3/26/20',\n",
       "       '3/27/20', '3/28/20', '3/29/20', '3/30/20', '3/31/20', '4/1/20',\n",
       "       '4/2/20', '4/3/20', '4/4/20', '4/5/20', '4/6/20', '4/7/20', '4/8/20',\n",
       "       '4/9/20'],\n",
       "      dtype='object')"
      ]
     },
     "execution_count": 50,
     "metadata": {},
     "output_type": "execute_result"
    }
   ],
   "source": [
    "data = pd.read_csv(datadir + \"covid/deaths.csv\")\n",
    "data.columns"
   ]
  },
  {
   "cell_type": "code",
   "execution_count": 5,
   "metadata": {},
   "outputs": [
    {
     "data": {
      "text/plain": [
       "Index(['FIPS', 'total_pop', '60plus'], dtype='object')"
      ]
     },
     "execution_count": 5,
     "metadata": {},
     "output_type": "execute_result"
    }
   ],
   "source": [
    "demo = pd.read_csv(f\"{homedir}/data/us/demographics/county_populations.csv\")\n",
    "demo.columns"
   ]
  },
  {
   "cell_type": "code",
   "execution_count": 15,
   "metadata": {},
   "outputs": [
    {
     "data": {
      "text/html": [
       "<div>\n",
       "<style scoped>\n",
       "    .dataframe tbody tr th:only-of-type {\n",
       "        vertical-align: middle;\n",
       "    }\n",
       "\n",
       "    .dataframe tbody tr th {\n",
       "        vertical-align: top;\n",
       "    }\n",
       "\n",
       "    .dataframe thead th {\n",
       "        text-align: right;\n",
       "    }\n",
       "</style>\n",
       "<table border=\"1\" class=\"dataframe\">\n",
       "  <thead>\n",
       "    <tr style=\"text-align: right;\">\n",
       "      <th></th>\n",
       "      <th>countyFIPS</th>\n",
       "      <th>County Name</th>\n",
       "      <th>State</th>\n",
       "      <th>stateFIPS</th>\n",
       "      <th>1/22/20</th>\n",
       "      <th>1/23/20</th>\n",
       "      <th>1/24/20</th>\n",
       "      <th>1/25/20</th>\n",
       "      <th>1/26/20</th>\n",
       "      <th>1/27/20</th>\n",
       "      <th>...</th>\n",
       "      <th>3/31/20</th>\n",
       "      <th>4/1/20</th>\n",
       "      <th>4/2/20</th>\n",
       "      <th>4/3/20</th>\n",
       "      <th>4/4/20</th>\n",
       "      <th>4/5/20</th>\n",
       "      <th>4/6/20</th>\n",
       "      <th>4/7/20</th>\n",
       "      <th>4/8/20</th>\n",
       "      <th>4/9/20</th>\n",
       "    </tr>\n",
       "  </thead>\n",
       "  <tbody>\n",
       "    <tr>\n",
       "      <th>0</th>\n",
       "      <td>0</td>\n",
       "      <td>Statewide Unallocated</td>\n",
       "      <td>AL</td>\n",
       "      <td>1</td>\n",
       "      <td>0</td>\n",
       "      <td>0</td>\n",
       "      <td>0</td>\n",
       "      <td>0</td>\n",
       "      <td>0</td>\n",
       "      <td>0</td>\n",
       "      <td>...</td>\n",
       "      <td>0</td>\n",
       "      <td>0.0</td>\n",
       "      <td>0.0</td>\n",
       "      <td>0.0</td>\n",
       "      <td>0.0</td>\n",
       "      <td>0.0</td>\n",
       "      <td>0.0</td>\n",
       "      <td>0.0</td>\n",
       "      <td>0.0</td>\n",
       "      <td>0.0</td>\n",
       "    </tr>\n",
       "    <tr>\n",
       "      <th>1</th>\n",
       "      <td>1001</td>\n",
       "      <td>Autauga County</td>\n",
       "      <td>AL</td>\n",
       "      <td>1</td>\n",
       "      <td>0</td>\n",
       "      <td>0</td>\n",
       "      <td>0</td>\n",
       "      <td>0</td>\n",
       "      <td>0</td>\n",
       "      <td>0</td>\n",
       "      <td>...</td>\n",
       "      <td>0</td>\n",
       "      <td>0.0</td>\n",
       "      <td>0.0</td>\n",
       "      <td>0.0</td>\n",
       "      <td>0.0</td>\n",
       "      <td>0.0</td>\n",
       "      <td>0.0</td>\n",
       "      <td>0.0</td>\n",
       "      <td>1.0</td>\n",
       "      <td>1.0</td>\n",
       "    </tr>\n",
       "    <tr>\n",
       "      <th>2</th>\n",
       "      <td>1003</td>\n",
       "      <td>Baldwin County</td>\n",
       "      <td>AL</td>\n",
       "      <td>1</td>\n",
       "      <td>0</td>\n",
       "      <td>0</td>\n",
       "      <td>0</td>\n",
       "      <td>0</td>\n",
       "      <td>0</td>\n",
       "      <td>0</td>\n",
       "      <td>...</td>\n",
       "      <td>0</td>\n",
       "      <td>0.0</td>\n",
       "      <td>0.0</td>\n",
       "      <td>0.0</td>\n",
       "      <td>0.0</td>\n",
       "      <td>0.0</td>\n",
       "      <td>0.0</td>\n",
       "      <td>0.0</td>\n",
       "      <td>0.0</td>\n",
       "      <td>0.0</td>\n",
       "    </tr>\n",
       "    <tr>\n",
       "      <th>3</th>\n",
       "      <td>1005</td>\n",
       "      <td>Barbour County</td>\n",
       "      <td>AL</td>\n",
       "      <td>1</td>\n",
       "      <td>0</td>\n",
       "      <td>0</td>\n",
       "      <td>0</td>\n",
       "      <td>0</td>\n",
       "      <td>0</td>\n",
       "      <td>0</td>\n",
       "      <td>...</td>\n",
       "      <td>0</td>\n",
       "      <td>0.0</td>\n",
       "      <td>0.0</td>\n",
       "      <td>0.0</td>\n",
       "      <td>0.0</td>\n",
       "      <td>0.0</td>\n",
       "      <td>0.0</td>\n",
       "      <td>0.0</td>\n",
       "      <td>0.0</td>\n",
       "      <td>0.0</td>\n",
       "    </tr>\n",
       "    <tr>\n",
       "      <th>4</th>\n",
       "      <td>1007</td>\n",
       "      <td>Bibb County</td>\n",
       "      <td>AL</td>\n",
       "      <td>1</td>\n",
       "      <td>0</td>\n",
       "      <td>0</td>\n",
       "      <td>0</td>\n",
       "      <td>0</td>\n",
       "      <td>0</td>\n",
       "      <td>0</td>\n",
       "      <td>...</td>\n",
       "      <td>0</td>\n",
       "      <td>0.0</td>\n",
       "      <td>0.0</td>\n",
       "      <td>0.0</td>\n",
       "      <td>0.0</td>\n",
       "      <td>0.0</td>\n",
       "      <td>0.0</td>\n",
       "      <td>0.0</td>\n",
       "      <td>0.0</td>\n",
       "      <td>0.0</td>\n",
       "    </tr>\n",
       "  </tbody>\n",
       "</table>\n",
       "<p>5 rows × 83 columns</p>\n",
       "</div>"
      ],
      "text/plain": [
       "   countyFIPS            County Name State  stateFIPS  1/22/20  1/23/20  \\\n",
       "0           0  Statewide Unallocated    AL          1        0        0   \n",
       "1        1001         Autauga County    AL          1        0        0   \n",
       "2        1003         Baldwin County    AL          1        0        0   \n",
       "3        1005         Barbour County    AL          1        0        0   \n",
       "4        1007            Bibb County    AL          1        0        0   \n",
       "\n",
       "   1/24/20  1/25/20  1/26/20  1/27/20  ...  3/31/20  4/1/20  4/2/20  4/3/20  \\\n",
       "0        0        0        0        0  ...        0     0.0     0.0     0.0   \n",
       "1        0        0        0        0  ...        0     0.0     0.0     0.0   \n",
       "2        0        0        0        0  ...        0     0.0     0.0     0.0   \n",
       "3        0        0        0        0  ...        0     0.0     0.0     0.0   \n",
       "4        0        0        0        0  ...        0     0.0     0.0     0.0   \n",
       "\n",
       "   4/4/20  4/5/20  4/6/20  4/7/20  4/8/20  4/9/20  \n",
       "0     0.0     0.0     0.0     0.0     0.0     0.0  \n",
       "1     0.0     0.0     0.0     0.0     1.0     1.0  \n",
       "2     0.0     0.0     0.0     0.0     0.0     0.0  \n",
       "3     0.0     0.0     0.0     0.0     0.0     0.0  \n",
       "4     0.0     0.0     0.0     0.0     0.0     0.0  \n",
       "\n",
       "[5 rows x 83 columns]"
      ]
     },
     "execution_count": 15,
     "metadata": {},
     "output_type": "execute_result"
    }
   ],
   "source": [
    "data.head()"
   ]
  },
  {
   "cell_type": "code",
   "execution_count": 16,
   "metadata": {},
   "outputs": [],
   "source": [
    "# countyFIPS is fucked up in the data for values 0... this fixes that shit by adding the stateFIPS to\n",
    "# places with countyFITS = 0 and countyFIPS thus becomes unique\n",
    "for i, check in enumerate(data['countyFIPS'] == 0):\n",
    "    if data.at[i, 'stateFIPS'] == 0:\n",
    "        if data.at[i, 'stateFIPS'] > 10:\n",
    "            prefix = data.at[i, 'stateFIPS'] * 100\n",
    "        else:\n",
    "            prefix = data.at[i, 'stateFIPS'] * 1000\n",
    "        data.at[i, 'countyFIPS'] = prefix + data.at[i, 'countyFIPS']"
   ]
  },
  {
   "cell_type": "code",
   "execution_count": 17,
   "metadata": {},
   "outputs": [
    {
     "data": {
      "text/plain": [
       "(3196, 83)"
      ]
     },
     "execution_count": 17,
     "metadata": {},
     "output_type": "execute_result"
    }
   ],
   "source": [
    "data.shape"
   ]
  },
  {
   "cell_type": "markdown",
   "metadata": {},
   "source": [
    "# SIR Model"
   ]
  },
  {
   "cell_type": "markdown",
   "metadata": {},
   "source": [
    "Simple SIR model.\n",
    "\n",
    "Parameters:\n"
   ]
  },
  {
   "cell_type": "code",
   "execution_count": 20,
   "metadata": {},
   "outputs": [],
   "source": [
    "def sir(dat, t, params, N):\n",
    "    beta = params[0] / N\n",
    "    delta = params[1]\n",
    "    \n",
    "    s = dat[0]\n",
    "    i = dat[1]\n",
    "    r = dat[2]\n",
    "    # sa = dat[6]\n",
    "    \n",
    "    dsdt = - beta * s * i\n",
    "    didt = beta * s * i - delta * i\n",
    "    drdt = delta * i\n",
    "    \n",
    "    # susceptible, infected, recovered\n",
    "    return [dsdt, didt, drdt]"
   ]
  },
  {
   "cell_type": "code",
   "execution_count": 25,
   "metadata": {},
   "outputs": [],
   "source": [
    "from sklearn.metrics import mean_squared_error\n",
    "\n",
    "def mse(A, B):\n",
    "    Ap = np.nan_to_num(A)\n",
    "    Bp = np.nan_to_num(B)\n",
    "    Ap[A == -np.inf] = 0\n",
    "    Bp[B == -np.inf] = 0\n",
    "    Ap[A == np.inf] = 0\n",
    "    Bp[B == np.inf] = 0\n",
    "    return mean_squared_error(Ap, Bp)\n",
    "\n",
    "def model_z(params, data, pop, tmax=-1):\n",
    "    # initial conditions\n",
    "    N = pop # total population\n",
    "    initial_conditions = N * np.array(params[-2:]) # the parameters are a fraction of the population so multiply by the population\n",
    "    \n",
    "    i0 = initial_conditions[0]\n",
    "    r0 = initial_conditions[1]\n",
    "    \n",
    "    s0 = N - np.sum(initial_conditions)\n",
    "\n",
    "    yz_0 = np.array([s0, i0, r0])\n",
    "    \n",
    "    n = data.shape[0]\n",
    "    if tmax > 0:\n",
    "        n = tmax\n",
    "    \n",
    "    # Package parameters into a tuple\n",
    "    args = (params, N)\n",
    "    \n",
    "    # Integrate ODEs\n",
    "    try:\n",
    "        s = scipy.integrate.odeint(sir, yz_0, np.arange(0, n), args=args)\n",
    "    except RuntimeError:\n",
    "#         print('RuntimeError', params)\n",
    "        return np.zeros((n, len(yz_0)))\n",
    "\n",
    "    return s\n",
    "\n",
    "def fit_leastsq_z(params, data):\n",
    "    Ddata = (data['Deaths'].values)\n",
    "    Idata = (data['TotalCurrentlyPositive'].values)\n",
    "    s = model_z(params, data)\n",
    "\n",
    "    S = s[:,0]\n",
    "    I = s[:,1]\n",
    "    R = s[:,2]\n",
    "    \n",
    "    error = np.concatenate((D-Ddata, I_S - Idata))\n",
    "    return error"
   ]
  },
  {
   "cell_type": "code",
   "execution_count": 26,
   "metadata": {},
   "outputs": [],
   "source": [
    "# return data ever since first min_cases cases\n",
    "def select_region(df, region, min_deaths=50):\n",
    "    d = df.loc[df['countyFIPS'] == region]\n",
    "    d = d[d.columns[4:]].values\n",
    "    start = np.where(d > min_deaths)[1]\n",
    "    infect = np.where(d > 0)[1]\n",
    "    if start.size > 0:\n",
    "         return (d[0][start[0]:], start[0] - infect[0])\n",
    "    return (np.array([]), 0)"
   ]
  },
  {
   "cell_type": "code",
   "execution_count": 27,
   "metadata": {},
   "outputs": [
    {
     "data": {
      "text/plain": [
       "(array([ 54.,  65.,  78.,  89., 117., 132., 147., 169., 198., 223.]), 20)"
      ]
     },
     "execution_count": 27,
     "metadata": {},
     "output_type": "execute_result"
    }
   ],
   "source": [
    "select_region(data, 6037)"
   ]
  },
  {
   "cell_type": "code",
   "execution_count": 31,
   "metadata": {},
   "outputs": [
    {
     "data": {
      "text/plain": [
       "<Figure size 432x288 with 0 Axes>"
      ]
     },
     "metadata": {},
     "output_type": "display_data"
    }
   ],
   "source": [
    "%matplotlib notebook\n",
    "%matplotlib inline\n",
    "\n",
    "plt.figure()\n",
    "d, offset = select_region(data, 36047)\n",
    "# parameters: beta, delta, shift\n",
    "params = [1.8, 0.015, 0.5]\n",
    "# conditions: E, IA, IS, R\n",
    "initial_conditions = [4e-6, 0.0009, 0.0005, 0.0002]\n",
    "s = model_z(params + initial_conditions, d, demo.loc[demo['FIPS'] == 36047]['total_pop'].values[0], offset)\n",
    "#plt.scatter(d['date_processed'], d['Deaths'])\n",
    "#plt.plot(d['date_processed'], s[:, 2] )\n",
    "#plt.show()"
   ]
  },
  {
   "cell_type": "code",
   "execution_count": 32,
   "metadata": {},
   "outputs": [
    {
     "data": {
      "text/plain": [
       "10105722"
      ]
     },
     "execution_count": 32,
     "metadata": {},
     "output_type": "execute_result"
    }
   ],
   "source": [
    "demo.loc[demo['FIPS'] == 6037]['total_pop'].values[0]"
   ]
  },
  {
   "cell_type": "code",
   "execution_count": 33,
   "metadata": {},
   "outputs": [
    {
     "data": {
      "text/plain": [
       "11"
      ]
     },
     "execution_count": 33,
     "metadata": {},
     "output_type": "execute_result"
    }
   ],
   "source": [
    "offset"
   ]
  },
  {
   "cell_type": "code",
   "execution_count": 38,
   "metadata": {},
   "outputs": [
    {
     "data": {
      "text/plain": [
       "64.0"
      ]
     },
     "execution_count": 38,
     "metadata": {},
     "output_type": "execute_result"
    }
   ],
   "source": [
    "d[0]"
   ]
  },
  {
   "cell_type": "code",
   "execution_count": 39,
   "metadata": {},
   "outputs": [
    {
     "data": {
      "text/plain": [
       "array([[2.63327642e+06, 1.31756050e+03, 5.27024200e+02],\n",
       "       [2.62670954e+06, 7.82960152e+03, 5.81854861e+02],\n",
       "       [2.58825915e+06, 4.59561718e+04, 9.05676792e+02],\n",
       "       [2.38073131e+06, 2.51648697e+05, 2.74099010e+03],\n",
       "       [1.61234280e+06, 1.01147923e+06, 1.12989723e+04],\n",
       "       [5.55206014e+05, 2.04520507e+06, 3.47099206e+04],\n",
       "       [1.15608623e+05, 2.45034542e+06, 6.91669546e+04],\n",
       "       [2.10780978e+04, 2.50750167e+06, 1.06541228e+05],\n",
       "       [3.82183503e+03, 2.48726228e+06, 1.44036887e+05],\n",
       "       [7.06850974e+02, 2.45331722e+06, 1.81096924e+05],\n",
       "       [1.33923114e+02, 2.41735960e+06, 2.17627476e+05]])"
      ]
     },
     "execution_count": 39,
     "metadata": {},
     "output_type": "execute_result"
    }
   ],
   "source": [
    "s"
   ]
  },
  {
   "cell_type": "code",
   "execution_count": 36,
   "metadata": {},
   "outputs": [
    {
     "data": {
      "text/plain": [
       "(array([1861, 1862, 1863, 1864, 1865, 1866, 1867, 1868, 1869, 1870, 1871,\n",
       "        1872, 1873, 1874, 1875, 1876, 1877, 1878, 1879, 1880, 1881, 1882,\n",
       "        1883, 1884, 1885, 1886, 1887, 1888, 1889, 1890, 1891, 1892, 1893,\n",
       "        1894, 1895, 1896, 1897, 1898, 1899, 1900, 1901, 1902, 1903, 1904,\n",
       "        1905, 1906, 1907, 1908, 1909, 1910, 1911, 1912, 1913, 1914, 1915,\n",
       "        1916, 1917, 1918, 1919, 1920, 1921, 1922, 1923, 1924]),)"
      ]
     },
     "execution_count": 36,
     "metadata": {},
     "output_type": "execute_result"
    }
   ],
   "source": [
    "np.where(data['State'].values == \"NY\")"
   ]
  },
  {
   "cell_type": "code",
   "execution_count": 43,
   "metadata": {},
   "outputs": [
    {
     "data": {
      "text/html": [
       "<div>\n",
       "<style scoped>\n",
       "    .dataframe tbody tr th:only-of-type {\n",
       "        vertical-align: middle;\n",
       "    }\n",
       "\n",
       "    .dataframe tbody tr th {\n",
       "        vertical-align: top;\n",
       "    }\n",
       "\n",
       "    .dataframe thead th {\n",
       "        text-align: right;\n",
       "    }\n",
       "</style>\n",
       "<table border=\"1\" class=\"dataframe\">\n",
       "  <thead>\n",
       "    <tr style=\"text-align: right;\">\n",
       "      <th></th>\n",
       "      <th>countyFIPS</th>\n",
       "      <th>County Name</th>\n",
       "      <th>State</th>\n",
       "      <th>stateFIPS</th>\n",
       "      <th>1/22/20</th>\n",
       "      <th>1/23/20</th>\n",
       "      <th>1/24/20</th>\n",
       "      <th>1/25/20</th>\n",
       "      <th>1/26/20</th>\n",
       "      <th>1/27/20</th>\n",
       "      <th>...</th>\n",
       "      <th>3/31/20</th>\n",
       "      <th>4/1/20</th>\n",
       "      <th>4/2/20</th>\n",
       "      <th>4/3/20</th>\n",
       "      <th>4/4/20</th>\n",
       "      <th>4/5/20</th>\n",
       "      <th>4/6/20</th>\n",
       "      <th>4/7/20</th>\n",
       "      <th>4/8/20</th>\n",
       "      <th>4/9/20</th>\n",
       "    </tr>\n",
       "  </thead>\n",
       "  <tbody>\n",
       "    <tr>\n",
       "      <th>1891</th>\n",
       "      <td>36057</td>\n",
       "      <td>Montgomery County</td>\n",
       "      <td>NY</td>\n",
       "      <td>36</td>\n",
       "      <td>0</td>\n",
       "      <td>0</td>\n",
       "      <td>0</td>\n",
       "      <td>0</td>\n",
       "      <td>0</td>\n",
       "      <td>0</td>\n",
       "      <td>...</td>\n",
       "      <td>0</td>\n",
       "      <td>0.0</td>\n",
       "      <td>0.0</td>\n",
       "      <td>0.0</td>\n",
       "      <td>1.0</td>\n",
       "      <td>1.0</td>\n",
       "      <td>1.0</td>\n",
       "      <td>1.0</td>\n",
       "      <td>1.0</td>\n",
       "      <td>1.0</td>\n",
       "    </tr>\n",
       "    <tr>\n",
       "      <th>1892</th>\n",
       "      <td>36059</td>\n",
       "      <td>Nassau County</td>\n",
       "      <td>NY</td>\n",
       "      <td>36</td>\n",
       "      <td>0</td>\n",
       "      <td>0</td>\n",
       "      <td>0</td>\n",
       "      <td>0</td>\n",
       "      <td>0</td>\n",
       "      <td>0</td>\n",
       "      <td>...</td>\n",
       "      <td>63</td>\n",
       "      <td>76.0</td>\n",
       "      <td>95.0</td>\n",
       "      <td>143.0</td>\n",
       "      <td>149.0</td>\n",
       "      <td>381.0</td>\n",
       "      <td>433.0</td>\n",
       "      <td>500.0</td>\n",
       "      <td>566.0</td>\n",
       "      <td>788.0</td>\n",
       "    </tr>\n",
       "    <tr>\n",
       "      <th>1893</th>\n",
       "      <td>36061</td>\n",
       "      <td>New York County</td>\n",
       "      <td>NY</td>\n",
       "      <td>36</td>\n",
       "      <td>0</td>\n",
       "      <td>0</td>\n",
       "      <td>0</td>\n",
       "      <td>0</td>\n",
       "      <td>0</td>\n",
       "      <td>0</td>\n",
       "      <td>...</td>\n",
       "      <td>129</td>\n",
       "      <td>165.0</td>\n",
       "      <td>178.0</td>\n",
       "      <td>215.0</td>\n",
       "      <td>264.0</td>\n",
       "      <td>390.0</td>\n",
       "      <td>436.0</td>\n",
       "      <td>513.0</td>\n",
       "      <td>604.0</td>\n",
       "      <td>674.0</td>\n",
       "    </tr>\n",
       "    <tr>\n",
       "      <th>1894</th>\n",
       "      <td>36063</td>\n",
       "      <td>Niagara County</td>\n",
       "      <td>NY</td>\n",
       "      <td>36</td>\n",
       "      <td>0</td>\n",
       "      <td>0</td>\n",
       "      <td>0</td>\n",
       "      <td>0</td>\n",
       "      <td>0</td>\n",
       "      <td>0</td>\n",
       "      <td>...</td>\n",
       "      <td>0</td>\n",
       "      <td>0.0</td>\n",
       "      <td>0.0</td>\n",
       "      <td>0.0</td>\n",
       "      <td>0.0</td>\n",
       "      <td>0.0</td>\n",
       "      <td>0.0</td>\n",
       "      <td>0.0</td>\n",
       "      <td>1.0</td>\n",
       "      <td>1.0</td>\n",
       "    </tr>\n",
       "    <tr>\n",
       "      <th>1895</th>\n",
       "      <td>36065</td>\n",
       "      <td>Oneida County</td>\n",
       "      <td>NY</td>\n",
       "      <td>36</td>\n",
       "      <td>0</td>\n",
       "      <td>0</td>\n",
       "      <td>0</td>\n",
       "      <td>0</td>\n",
       "      <td>0</td>\n",
       "      <td>0</td>\n",
       "      <td>...</td>\n",
       "      <td>1</td>\n",
       "      <td>1.0</td>\n",
       "      <td>1.0</td>\n",
       "      <td>2.0</td>\n",
       "      <td>2.0</td>\n",
       "      <td>2.0</td>\n",
       "      <td>2.0</td>\n",
       "      <td>2.0</td>\n",
       "      <td>2.0</td>\n",
       "      <td>2.0</td>\n",
       "    </tr>\n",
       "    <tr>\n",
       "      <th>1896</th>\n",
       "      <td>36067</td>\n",
       "      <td>Onondaga County</td>\n",
       "      <td>NY</td>\n",
       "      <td>36</td>\n",
       "      <td>0</td>\n",
       "      <td>0</td>\n",
       "      <td>0</td>\n",
       "      <td>0</td>\n",
       "      <td>0</td>\n",
       "      <td>0</td>\n",
       "      <td>...</td>\n",
       "      <td>1</td>\n",
       "      <td>1.0</td>\n",
       "      <td>2.0</td>\n",
       "      <td>4.0</td>\n",
       "      <td>4.0</td>\n",
       "      <td>4.0</td>\n",
       "      <td>5.0</td>\n",
       "      <td>5.0</td>\n",
       "      <td>6.0</td>\n",
       "      <td>10.0</td>\n",
       "    </tr>\n",
       "    <tr>\n",
       "      <th>1897</th>\n",
       "      <td>36069</td>\n",
       "      <td>Ontario County</td>\n",
       "      <td>NY</td>\n",
       "      <td>36</td>\n",
       "      <td>0</td>\n",
       "      <td>0</td>\n",
       "      <td>0</td>\n",
       "      <td>0</td>\n",
       "      <td>0</td>\n",
       "      <td>0</td>\n",
       "      <td>...</td>\n",
       "      <td>0</td>\n",
       "      <td>0.0</td>\n",
       "      <td>0.0</td>\n",
       "      <td>0.0</td>\n",
       "      <td>0.0</td>\n",
       "      <td>0.0</td>\n",
       "      <td>0.0</td>\n",
       "      <td>0.0</td>\n",
       "      <td>0.0</td>\n",
       "      <td>0.0</td>\n",
       "    </tr>\n",
       "    <tr>\n",
       "      <th>1898</th>\n",
       "      <td>36071</td>\n",
       "      <td>Orange County</td>\n",
       "      <td>NY</td>\n",
       "      <td>36</td>\n",
       "      <td>0</td>\n",
       "      <td>0</td>\n",
       "      <td>0</td>\n",
       "      <td>0</td>\n",
       "      <td>0</td>\n",
       "      <td>0</td>\n",
       "      <td>...</td>\n",
       "      <td>12</td>\n",
       "      <td>25.0</td>\n",
       "      <td>30.0</td>\n",
       "      <td>40.0</td>\n",
       "      <td>51.0</td>\n",
       "      <td>51.0</td>\n",
       "      <td>51.0</td>\n",
       "      <td>53.0</td>\n",
       "      <td>63.0</td>\n",
       "      <td>79.0</td>\n",
       "    </tr>\n",
       "    <tr>\n",
       "      <th>1899</th>\n",
       "      <td>36073</td>\n",
       "      <td>Orleans County</td>\n",
       "      <td>NY</td>\n",
       "      <td>36</td>\n",
       "      <td>0</td>\n",
       "      <td>0</td>\n",
       "      <td>0</td>\n",
       "      <td>0</td>\n",
       "      <td>0</td>\n",
       "      <td>0</td>\n",
       "      <td>...</td>\n",
       "      <td>0</td>\n",
       "      <td>0.0</td>\n",
       "      <td>0.0</td>\n",
       "      <td>0.0</td>\n",
       "      <td>0.0</td>\n",
       "      <td>0.0</td>\n",
       "      <td>0.0</td>\n",
       "      <td>0.0</td>\n",
       "      <td>0.0</td>\n",
       "      <td>0.0</td>\n",
       "    </tr>\n",
       "  </tbody>\n",
       "</table>\n",
       "<p>9 rows × 83 columns</p>\n",
       "</div>"
      ],
      "text/plain": [
       "      countyFIPS        County Name State  stateFIPS  1/22/20  1/23/20  \\\n",
       "1891       36057  Montgomery County    NY         36        0        0   \n",
       "1892       36059      Nassau County    NY         36        0        0   \n",
       "1893       36061    New York County    NY         36        0        0   \n",
       "1894       36063     Niagara County    NY         36        0        0   \n",
       "1895       36065      Oneida County    NY         36        0        0   \n",
       "1896       36067    Onondaga County    NY         36        0        0   \n",
       "1897       36069     Ontario County    NY         36        0        0   \n",
       "1898       36071      Orange County    NY         36        0        0   \n",
       "1899       36073     Orleans County    NY         36        0        0   \n",
       "\n",
       "      1/24/20  1/25/20  1/26/20  1/27/20  ...  3/31/20  4/1/20  4/2/20  \\\n",
       "1891        0        0        0        0  ...        0     0.0     0.0   \n",
       "1892        0        0        0        0  ...       63    76.0    95.0   \n",
       "1893        0        0        0        0  ...      129   165.0   178.0   \n",
       "1894        0        0        0        0  ...        0     0.0     0.0   \n",
       "1895        0        0        0        0  ...        1     1.0     1.0   \n",
       "1896        0        0        0        0  ...        1     1.0     2.0   \n",
       "1897        0        0        0        0  ...        0     0.0     0.0   \n",
       "1898        0        0        0        0  ...       12    25.0    30.0   \n",
       "1899        0        0        0        0  ...        0     0.0     0.0   \n",
       "\n",
       "      4/3/20  4/4/20  4/5/20  4/6/20  4/7/20  4/8/20  4/9/20  \n",
       "1891     0.0     1.0     1.0     1.0     1.0     1.0     1.0  \n",
       "1892   143.0   149.0   381.0   433.0   500.0   566.0   788.0  \n",
       "1893   215.0   264.0   390.0   436.0   513.0   604.0   674.0  \n",
       "1894     0.0     0.0     0.0     0.0     0.0     1.0     1.0  \n",
       "1895     2.0     2.0     2.0     2.0     2.0     2.0     2.0  \n",
       "1896     4.0     4.0     4.0     5.0     5.0     6.0    10.0  \n",
       "1897     0.0     0.0     0.0     0.0     0.0     0.0     0.0  \n",
       "1898    40.0    51.0    51.0    51.0    53.0    63.0    79.0  \n",
       "1899     0.0     0.0     0.0     0.0     0.0     0.0     0.0  \n",
       "\n",
       "[9 rows x 83 columns]"
      ]
     },
     "execution_count": 43,
     "metadata": {},
     "output_type": "execute_result"
    }
   ],
   "source": [
    "data[1891:1900]"
   ]
  },
  {
   "cell_type": "code",
   "execution_count": 41,
   "metadata": {},
   "outputs": [],
   "source": [
    "d, offset = select_region(data, 36047)"
   ]
  },
  {
   "cell_type": "code",
   "execution_count": 42,
   "metadata": {},
   "outputs": [
    {
     "ename": "SyntaxError",
     "evalue": "invalid syntax (<ipython-input-42-80c3d41cc28c>, line 2)",
     "output_type": "error",
     "traceback": [
      "\u001b[0;36m  File \u001b[0;32m\"<ipython-input-42-80c3d41cc28c>\"\u001b[0;36m, line \u001b[0;32m2\u001b[0m\n\u001b[0;31m    for n in diff\u001b[0m\n\u001b[0m                  ^\u001b[0m\n\u001b[0;31mSyntaxError\u001b[0m\u001b[0;31m:\u001b[0m invalid syntax\n"
     ]
    }
   ],
   "source": [
    "import itertools\n",
    "\n",
    "def plot_qd(res, p0_params, p0_initial_conditions, df, region, extrapolate=1, boundary=None, plot_infectious=False):\n",
    "    data = select_region(df, region)\n",
    "    \n",
    "    s = model_qd(res.x, data, len(data)*extrapolate)\n",
    "    S = s[:,0]\n",
    "    E = s[:,1]\n",
    "    I = s[:,2]\n",
    "    Q = s[:,3]\n",
    "    R = s[:,4]\n",
    "    D = s[:,5]\n",
    "    SA = s[:,6]\n",
    "\n",
    "    t = np.arange(0, len(data))\n",
    "    tp = np.arange(0, len(data)*extrapolate)\n",
    "\n",
    "    p = bokeh.plotting.figure(plot_width=600,\n",
    "                              plot_height=400,\n",
    "                             title = region + ' SEIR-QD Model',\n",
    "                             x_axis_label = 't (days)',\n",
    "                             y_axis_label = '# people')\n",
    "\n",
    "    if plot_infectious:\n",
    "        p.line(tp, I, color = 'red', line_width = 1, legend_label = 'All infected')\n",
    "    p.line(tp, D, color = 'black', line_width = 1, legend_label = 'Deceased')\n",
    "\n",
    "    # death\n",
    "    p.circle(t, data['Deaths'], color ='black')\n",
    "\n",
    "    # quarantined\n",
    "    p.circle(t, data['TotalCurrentlyPositive'], color ='purple', legend_label='Tested infected')\n",
    "    \n",
    "    if boundary is not None:\n",
    "        vline = Span(location=boundary, dimension='height', line_color='black', line_width=3)\n",
    "        p.renderers.extend([vline])\n",
    "\n",
    "    p.legend.location = 'top_left'\n",
    "    bokeh.io.show(p)"
   ]
  },
  {
   "cell_type": "code",
   "execution_count": null,
   "metadata": {},
   "outputs": [],
   "source": []
  }
 ],
 "metadata": {
  "kernelspec": {
   "display_name": "Python 3",
   "language": "python",
   "name": "python3"
  },
  "language_info": {
   "codemirror_mode": {
    "name": "ipython",
    "version": 3
   },
   "file_extension": ".py",
   "mimetype": "text/x-python",
   "name": "python",
   "nbconvert_exporter": "python",
   "pygments_lexer": "ipython3",
   "version": "3.7.6"
  }
 },
 "nbformat": 4,
 "nbformat_minor": 4
}
