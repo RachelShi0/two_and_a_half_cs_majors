{
 "cells": [
  {
   "cell_type": "code",
   "execution_count": 1,
   "metadata": {},
   "outputs": [
    {
     "data": {
      "text/plain": [
       "<module 'RNN' from 'C:\\\\Users\\\\siqia\\\\Documents\\\\GitHub\\\\two_and_a_half_cs_majors\\\\RNN\\\\RNN.py'>"
      ]
     },
     "execution_count": 1,
     "metadata": {},
     "output_type": "execute_result"
    }
   ],
   "source": [
    "import importlib\n",
    "import RNN\n",
    "from RNN import *\n",
    "importlib.reload(RNN)"
   ]
  },
  {
   "cell_type": "code",
   "execution_count": 2,
   "metadata": {},
   "outputs": [
    {
     "name": "stdout",
     "output_type": "stream",
     "text": [
      "hello\n"
     ]
    }
   ],
   "source": [
    "path = 'data/us/covid/nyt_us_counties_daily.csv'\n",
    "counties_df = load_county_data(path)"
   ]
  },
  {
   "cell_type": "code",
   "execution_count": 3,
   "metadata": {},
   "outputs": [
    {
     "data": {
      "text/html": [
       "<div>\n",
       "<style scoped>\n",
       "    .dataframe tbody tr th:only-of-type {\n",
       "        vertical-align: middle;\n",
       "    }\n",
       "\n",
       "    .dataframe tbody tr th {\n",
       "        vertical-align: top;\n",
       "    }\n",
       "\n",
       "    .dataframe thead th {\n",
       "        text-align: right;\n",
       "    }\n",
       "</style>\n",
       "<table border=\"1\" class=\"dataframe\">\n",
       "  <thead>\n",
       "    <tr style=\"text-align: right;\">\n",
       "      <th></th>\n",
       "      <th>fips</th>\n",
       "      <th>date</th>\n",
       "      <th>county</th>\n",
       "      <th>state</th>\n",
       "      <th>cases</th>\n",
       "      <th>deaths</th>\n",
       "      <th>states_encoded</th>\n",
       "      <th>total_pop</th>\n",
       "      <th>60plus</th>\n",
       "      <th>Percent of adults with less than a high school diploma, 2014-18</th>\n",
       "      <th>Percent of adults with a high school diploma only, 2014-18</th>\n",
       "      <th>Percent of adults completing some college or associate's degree, 2014-18</th>\n",
       "      <th>Percent of adults with a bachelor's degree or higher, 2014-18</th>\n",
       "      <th>samples</th>\n",
       "      <th>m50</th>\n",
       "      <th>m50_index</th>\n",
       "    </tr>\n",
       "  </thead>\n",
       "  <tbody>\n",
       "    <tr>\n",
       "      <td>0</td>\n",
       "      <td>53061</td>\n",
       "      <td>2020-01-21</td>\n",
       "      <td>Snohomish</td>\n",
       "      <td>Washington</td>\n",
       "      <td>1.0</td>\n",
       "      <td>0.0</td>\n",
       "      <td>[0.0, 0.0, 0.0, 0.0, 0.0, 0.0, 0.0, 0.0, 0.0, ...</td>\n",
       "      <td>771904.0</td>\n",
       "      <td>143234.0</td>\n",
       "      <td>7.8</td>\n",
       "      <td>23.8</td>\n",
       "      <td>36.6</td>\n",
       "      <td>31.9</td>\n",
       "      <td>0.0</td>\n",
       "      <td>0.0</td>\n",
       "      <td>0.0</td>\n",
       "    </tr>\n",
       "    <tr>\n",
       "      <td>1</td>\n",
       "      <td>53061</td>\n",
       "      <td>2020-01-22</td>\n",
       "      <td>Snohomish</td>\n",
       "      <td>Washington</td>\n",
       "      <td>0.0</td>\n",
       "      <td>0.0</td>\n",
       "      <td>[0.0, 0.0, 0.0, 0.0, 0.0, 0.0, 0.0, 0.0, 0.0, ...</td>\n",
       "      <td>771904.0</td>\n",
       "      <td>143234.0</td>\n",
       "      <td>7.8</td>\n",
       "      <td>23.8</td>\n",
       "      <td>36.6</td>\n",
       "      <td>31.9</td>\n",
       "      <td>0.0</td>\n",
       "      <td>0.0</td>\n",
       "      <td>0.0</td>\n",
       "    </tr>\n",
       "    <tr>\n",
       "      <td>2</td>\n",
       "      <td>53061</td>\n",
       "      <td>2020-01-23</td>\n",
       "      <td>Snohomish</td>\n",
       "      <td>Washington</td>\n",
       "      <td>0.0</td>\n",
       "      <td>0.0</td>\n",
       "      <td>[0.0, 0.0, 0.0, 0.0, 0.0, 0.0, 0.0, 0.0, 0.0, ...</td>\n",
       "      <td>771904.0</td>\n",
       "      <td>143234.0</td>\n",
       "      <td>7.8</td>\n",
       "      <td>23.8</td>\n",
       "      <td>36.6</td>\n",
       "      <td>31.9</td>\n",
       "      <td>0.0</td>\n",
       "      <td>0.0</td>\n",
       "      <td>0.0</td>\n",
       "    </tr>\n",
       "    <tr>\n",
       "      <td>3</td>\n",
       "      <td>53061</td>\n",
       "      <td>2020-01-24</td>\n",
       "      <td>Snohomish</td>\n",
       "      <td>Washington</td>\n",
       "      <td>0.0</td>\n",
       "      <td>0.0</td>\n",
       "      <td>[0.0, 0.0, 0.0, 0.0, 0.0, 0.0, 0.0, 0.0, 0.0, ...</td>\n",
       "      <td>771904.0</td>\n",
       "      <td>143234.0</td>\n",
       "      <td>7.8</td>\n",
       "      <td>23.8</td>\n",
       "      <td>36.6</td>\n",
       "      <td>31.9</td>\n",
       "      <td>0.0</td>\n",
       "      <td>0.0</td>\n",
       "      <td>0.0</td>\n",
       "    </tr>\n",
       "    <tr>\n",
       "      <td>4</td>\n",
       "      <td>53061</td>\n",
       "      <td>2020-01-25</td>\n",
       "      <td>Snohomish</td>\n",
       "      <td>Washington</td>\n",
       "      <td>0.0</td>\n",
       "      <td>0.0</td>\n",
       "      <td>[0.0, 0.0, 0.0, 0.0, 0.0, 0.0, 0.0, 0.0, 0.0, ...</td>\n",
       "      <td>771904.0</td>\n",
       "      <td>143234.0</td>\n",
       "      <td>7.8</td>\n",
       "      <td>23.8</td>\n",
       "      <td>36.6</td>\n",
       "      <td>31.9</td>\n",
       "      <td>0.0</td>\n",
       "      <td>0.0</td>\n",
       "      <td>0.0</td>\n",
       "    </tr>\n",
       "  </tbody>\n",
       "</table>\n",
       "</div>"
      ],
      "text/plain": [
       "    fips       date     county       state  cases  deaths  \\\n",
       "0  53061 2020-01-21  Snohomish  Washington    1.0     0.0   \n",
       "1  53061 2020-01-22  Snohomish  Washington    0.0     0.0   \n",
       "2  53061 2020-01-23  Snohomish  Washington    0.0     0.0   \n",
       "3  53061 2020-01-24  Snohomish  Washington    0.0     0.0   \n",
       "4  53061 2020-01-25  Snohomish  Washington    0.0     0.0   \n",
       "\n",
       "                                      states_encoded  total_pop    60plus  \\\n",
       "0  [0.0, 0.0, 0.0, 0.0, 0.0, 0.0, 0.0, 0.0, 0.0, ...   771904.0  143234.0   \n",
       "1  [0.0, 0.0, 0.0, 0.0, 0.0, 0.0, 0.0, 0.0, 0.0, ...   771904.0  143234.0   \n",
       "2  [0.0, 0.0, 0.0, 0.0, 0.0, 0.0, 0.0, 0.0, 0.0, ...   771904.0  143234.0   \n",
       "3  [0.0, 0.0, 0.0, 0.0, 0.0, 0.0, 0.0, 0.0, 0.0, ...   771904.0  143234.0   \n",
       "4  [0.0, 0.0, 0.0, 0.0, 0.0, 0.0, 0.0, 0.0, 0.0, ...   771904.0  143234.0   \n",
       "\n",
       "   Percent of adults with less than a high school diploma, 2014-18  \\\n",
       "0                                                7.8                 \n",
       "1                                                7.8                 \n",
       "2                                                7.8                 \n",
       "3                                                7.8                 \n",
       "4                                                7.8                 \n",
       "\n",
       "   Percent of adults with a high school diploma only, 2014-18  \\\n",
       "0                                               23.8            \n",
       "1                                               23.8            \n",
       "2                                               23.8            \n",
       "3                                               23.8            \n",
       "4                                               23.8            \n",
       "\n",
       "   Percent of adults completing some college or associate's degree, 2014-18  \\\n",
       "0                                               36.6                          \n",
       "1                                               36.6                          \n",
       "2                                               36.6                          \n",
       "3                                               36.6                          \n",
       "4                                               36.6                          \n",
       "\n",
       "   Percent of adults with a bachelor's degree or higher, 2014-18  samples  \\\n",
       "0                                               31.9                  0.0   \n",
       "1                                               31.9                  0.0   \n",
       "2                                               31.9                  0.0   \n",
       "3                                               31.9                  0.0   \n",
       "4                                               31.9                  0.0   \n",
       "\n",
       "   m50  m50_index  \n",
       "0  0.0        0.0  \n",
       "1  0.0        0.0  \n",
       "2  0.0        0.0  \n",
       "3  0.0        0.0  \n",
       "4  0.0        0.0  "
      ]
     },
     "execution_count": 3,
     "metadata": {},
     "output_type": "execute_result"
    }
   ],
   "source": [
    "counties_df.head()"
   ]
  },
  {
   "cell_type": "code",
   "execution_count": 4,
   "metadata": {},
   "outputs": [],
   "source": [
    "daterange = generate_date_range(counties_df, dateshift=35)\n",
    "split_point = generate_split_point(daterange, frac = 0.6)"
   ]
  },
  {
   "cell_type": "code",
   "execution_count": 5,
   "metadata": {},
   "outputs": [
    {
     "name": "stdout",
     "output_type": "stream",
     "text": [
      "FIPS processed: 0/2858\n",
      "FIPS processed: 250/2858\n",
      "FIPS processed: 500/2858\n",
      "FIPS processed: 750/2858\n",
      "FIPS processed: 1000/2858\n",
      "FIPS processed: 1250/2858\n",
      "FIPS processed: 1500/2858\n",
      "FIPS processed: 1750/2858\n",
      "FIPS processed: 2000/2858\n",
      "FIPS processed: 2250/2858\n",
      "FIPS processed: 2500/2858\n",
      "FIPS processed: 2750/2858\n"
     ]
    },
    {
     "data": {
      "image/png": "[encoded data removed]",
      "text/plain": [
       "<Figure size 432x288 with 1 Axes>"
      ]
     },
     "metadata": {
      "needs_background": "light"
     },
     "output_type": "display_data"
    },
    {
     "data": {
      "text/plain": [
       "<Figure size 432x288 with 0 Axes>"
      ]
     },
     "metadata": {},
     "output_type": "display_data"
    }
   ],
   "source": [
    "train_inputs, train_targets, train_conditions, test_inputs, \\\n",
    "    test_targets, test_conditions, inputs_total, conditions_total, fips_many \\\n",
    "    = generate_county_sets(counties_df, daterange, split_point=split_point)"
   ]
  },
  {
   "cell_type": "code",
   "execution_count": 6,
   "metadata": {},
   "outputs": [
    {
     "name": "stdout",
     "output_type": "stream",
     "text": [
      "(6104, 12, 3)\n",
      "(6104, 3)\n",
      "(6104, 58)\n"
     ]
    }
   ],
   "source": [
    "print(train_inputs.shape)\n",
    "print(train_targets.shape)\n",
    "print(train_conditions.shape)"
   ]
  },
  {
   "cell_type": "code",
   "execution_count": 7,
   "metadata": {},
   "outputs": [
    {
     "name": "stdout",
     "output_type": "stream",
     "text": [
      "(3270, 12, 3)\n",
      "(3270, 3)\n",
      "(3270, 58)\n"
     ]
    }
   ],
   "source": [
    "print(test_inputs.shape)\n",
    "print(test_targets.shape)\n",
    "print(test_conditions.shape)"
   ]
  },
  {
   "cell_type": "code",
   "execution_count": 8,
   "metadata": {},
   "outputs": [
    {
     "name": "stdout",
     "output_type": "stream",
     "text": [
      "WARNING:tensorflow:Layer dense is casting an input tensor from dtype float64 to the layer's dtype of float32, which is new behavior in TensorFlow 2.  The layer has dtype float32 because it's dtype defaults to floatx.\n",
      "\n",
      "If you intended to run this layer in float32, you can safely ignore this warning. If in doubt, this warning is likely only an issue if you are porting a TensorFlow 1.X model to TensorFlow 2.\n",
      "\n",
      "To change all layers to have dtype float64 by default, call `tf.keras.backend.set_floatx('float64')`. To change just this layer, pass dtype='float64' to the layer constructor. If you are the author of this layer, you can disable autocasting by passing autocast=False to the base Layer constructor.\n",
      "\n",
      "WARNING:tensorflow:Layer dense_12 is casting an input tensor from dtype float64 to the layer's dtype of float32, which is new behavior in TensorFlow 2.  The layer has dtype float32 because it's dtype defaults to floatx.\n",
      "\n",
      "If you intended to run this layer in float32, you can safely ignore this warning. If in doubt, this warning is likely only an issue if you are porting a TensorFlow 1.X model to TensorFlow 2.\n",
      "\n",
      "To change all layers to have dtype float64 by default, call `tf.keras.backend.set_floatx('float64')`. To change just this layer, pass dtype='float64' to the layer constructor. If you are the author of this layer, you can disable autocasting by passing autocast=False to the base Layer constructor.\n",
      "\n",
      "Train on 6104 samples, validate on 3270 samples\n",
      "6104/6104 [==============================] - 20s 3ms/sample - loss: 0.5198 - val_loss: 0.3328\n",
      "Evaluating model:\n",
      "3270/3270 [==============================] - 1s 321us/sample - loss: 0.3328\n"
     ]
    }
   ],
   "source": [
    "# For some reason, it won't let me make a model here? so the\n",
    "# model is made in RNN.py and imported.\n",
    "# model = MySimpleModel()\n",
    "\n",
    "model, history = train_rnn(model, train_inputs, train_targets,\n",
    "                           train_conditions, test_inputs,\n",
    "                           test_targets, test_conditions, ep = 1)"
   ]
  },
  {
   "cell_type": "code",
   "execution_count": 9,
   "metadata": {},
   "outputs": [
    {
     "data": {
      "image/png": "[encoded data removed]",
      "text/plain": [
       "<Figure size 432x288 with 1 Axes>"
      ]
     },
     "metadata": {
      "needs_background": "light"
     },
     "output_type": "display_data"
    }
   ],
   "source": [
    "plot_loss(history)"
   ]
  },
  {
   "cell_type": "code",
   "execution_count": 10,
   "metadata": {},
   "outputs": [
    {
     "data": {
      "image/png": "[encoded data removed]",
      "text/plain": [
       "<Figure size 432x288 with 1 Axes>"
      ]
     },
     "metadata": {
      "needs_background": "light"
     },
     "output_type": "display_data"
    }
   ],
   "source": [
    "plot_hist(model, train_inputs, train_conditions)"
   ]
  },
  {
   "cell_type": "code",
   "execution_count": 11,
   "metadata": {},
   "outputs": [],
   "source": [
    "nyc = fips_many.index(36061)\n",
    "la = fips_many.index(6037)\n",
    "snoho = fips_many.index(53061)"
   ]
  },
  {
   "cell_type": "code",
   "execution_count": 12,
   "metadata": {},
   "outputs": [
    {
     "data": {
      "text/html": [
       "<div>\n",
       "<style scoped>\n",
       "    .dataframe tbody tr th:only-of-type {\n",
       "        vertical-align: middle;\n",
       "    }\n",
       "\n",
       "    .dataframe tbody tr th {\n",
       "        vertical-align: top;\n",
       "    }\n",
       "\n",
       "    .dataframe thead th {\n",
       "        text-align: right;\n",
       "    }\n",
       "</style>\n",
       "<table border=\"1\" class=\"dataframe\">\n",
       "  <thead>\n",
       "    <tr style=\"text-align: right;\">\n",
       "      <th></th>\n",
       "      <th>fips</th>\n",
       "      <th>date</th>\n",
       "      <th>county</th>\n",
       "      <th>state</th>\n",
       "      <th>cases</th>\n",
       "      <th>deaths</th>\n",
       "      <th>states_encoded</th>\n",
       "      <th>total_pop</th>\n",
       "      <th>60plus</th>\n",
       "      <th>Percent of adults with less than a high school diploma, 2014-18</th>\n",
       "      <th>Percent of adults with a high school diploma only, 2014-18</th>\n",
       "      <th>Percent of adults completing some college or associate's degree, 2014-18</th>\n",
       "      <th>Percent of adults with a bachelor's degree or higher, 2014-18</th>\n",
       "      <th>samples</th>\n",
       "      <th>m50</th>\n",
       "      <th>m50_index</th>\n",
       "    </tr>\n",
       "  </thead>\n",
       "  <tbody>\n",
       "    <tr>\n",
       "      <td>0</td>\n",
       "      <td>53061</td>\n",
       "      <td>2020-01-21</td>\n",
       "      <td>Snohomish</td>\n",
       "      <td>Washington</td>\n",
       "      <td>1.0</td>\n",
       "      <td>0.0</td>\n",
       "      <td>[0.0, 0.0, 0.0, 0.0, 0.0, 0.0, 0.0, 0.0, 0.0, ...</td>\n",
       "      <td>771904.0</td>\n",
       "      <td>143234.0</td>\n",
       "      <td>7.8</td>\n",
       "      <td>23.8</td>\n",
       "      <td>36.6</td>\n",
       "      <td>31.9</td>\n",
       "      <td>0.0</td>\n",
       "      <td>0.0</td>\n",
       "      <td>0.0</td>\n",
       "    </tr>\n",
       "    <tr>\n",
       "      <td>1</td>\n",
       "      <td>53061</td>\n",
       "      <td>2020-01-22</td>\n",
       "      <td>Snohomish</td>\n",
       "      <td>Washington</td>\n",
       "      <td>0.0</td>\n",
       "      <td>0.0</td>\n",
       "      <td>[0.0, 0.0, 0.0, 0.0, 0.0, 0.0, 0.0, 0.0, 0.0, ...</td>\n",
       "      <td>771904.0</td>\n",
       "      <td>143234.0</td>\n",
       "      <td>7.8</td>\n",
       "      <td>23.8</td>\n",
       "      <td>36.6</td>\n",
       "      <td>31.9</td>\n",
       "      <td>0.0</td>\n",
       "      <td>0.0</td>\n",
       "      <td>0.0</td>\n",
       "    </tr>\n",
       "    <tr>\n",
       "      <td>2</td>\n",
       "      <td>53061</td>\n",
       "      <td>2020-01-23</td>\n",
       "      <td>Snohomish</td>\n",
       "      <td>Washington</td>\n",
       "      <td>0.0</td>\n",
       "      <td>0.0</td>\n",
       "      <td>[0.0, 0.0, 0.0, 0.0, 0.0, 0.0, 0.0, 0.0, 0.0, ...</td>\n",
       "      <td>771904.0</td>\n",
       "      <td>143234.0</td>\n",
       "      <td>7.8</td>\n",
       "      <td>23.8</td>\n",
       "      <td>36.6</td>\n",
       "      <td>31.9</td>\n",
       "      <td>0.0</td>\n",
       "      <td>0.0</td>\n",
       "      <td>0.0</td>\n",
       "    </tr>\n",
       "    <tr>\n",
       "      <td>3</td>\n",
       "      <td>53061</td>\n",
       "      <td>2020-01-24</td>\n",
       "      <td>Snohomish</td>\n",
       "      <td>Washington</td>\n",
       "      <td>0.0</td>\n",
       "      <td>0.0</td>\n",
       "      <td>[0.0, 0.0, 0.0, 0.0, 0.0, 0.0, 0.0, 0.0, 0.0, ...</td>\n",
       "      <td>771904.0</td>\n",
       "      <td>143234.0</td>\n",
       "      <td>7.8</td>\n",
       "      <td>23.8</td>\n",
       "      <td>36.6</td>\n",
       "      <td>31.9</td>\n",
       "      <td>0.0</td>\n",
       "      <td>0.0</td>\n",
       "      <td>0.0</td>\n",
       "    </tr>\n",
       "    <tr>\n",
       "      <td>4</td>\n",
       "      <td>53061</td>\n",
       "      <td>2020-01-25</td>\n",
       "      <td>Snohomish</td>\n",
       "      <td>Washington</td>\n",
       "      <td>0.0</td>\n",
       "      <td>0.0</td>\n",
       "      <td>[0.0, 0.0, 0.0, 0.0, 0.0, 0.0, 0.0, 0.0, 0.0, ...</td>\n",
       "      <td>771904.0</td>\n",
       "      <td>143234.0</td>\n",
       "      <td>7.8</td>\n",
       "      <td>23.8</td>\n",
       "      <td>36.6</td>\n",
       "      <td>31.9</td>\n",
       "      <td>0.0</td>\n",
       "      <td>0.0</td>\n",
       "      <td>0.0</td>\n",
       "    </tr>\n",
       "    <tr>\n",
       "      <td>...</td>\n",
       "      <td>...</td>\n",
       "      <td>...</td>\n",
       "      <td>...</td>\n",
       "      <td>...</td>\n",
       "      <td>...</td>\n",
       "      <td>...</td>\n",
       "      <td>...</td>\n",
       "      <td>...</td>\n",
       "      <td>...</td>\n",
       "      <td>...</td>\n",
       "      <td>...</td>\n",
       "      <td>...</td>\n",
       "      <td>...</td>\n",
       "      <td>...</td>\n",
       "      <td>...</td>\n",
       "      <td>...</td>\n",
       "    </tr>\n",
       "    <tr>\n",
       "      <td>106296</td>\n",
       "      <td>27065</td>\n",
       "      <td>2020-05-01</td>\n",
       "      <td>Kanabec</td>\n",
       "      <td>Minnesota</td>\n",
       "      <td>1.0</td>\n",
       "      <td>0.0</td>\n",
       "      <td>[0.0, 0.0, 0.0, 0.0, 0.0, 0.0, 0.0, 0.0, 0.0, ...</td>\n",
       "      <td>15948.0</td>\n",
       "      <td>4382.0</td>\n",
       "      <td>9.6</td>\n",
       "      <td>40.2</td>\n",
       "      <td>35.6</td>\n",
       "      <td>14.6</td>\n",
       "      <td>0.0</td>\n",
       "      <td>0.0</td>\n",
       "      <td>0.0</td>\n",
       "    </tr>\n",
       "    <tr>\n",
       "      <td>106297</td>\n",
       "      <td>38075</td>\n",
       "      <td>2020-05-01</td>\n",
       "      <td>Renville</td>\n",
       "      <td>North Dakota</td>\n",
       "      <td>1.0</td>\n",
       "      <td>0.0</td>\n",
       "      <td>[0.0, 0.0, 0.0, 0.0, 0.0, 0.0, 0.0, 0.0, 0.0, ...</td>\n",
       "      <td>2543.0</td>\n",
       "      <td>613.0</td>\n",
       "      <td>6.0</td>\n",
       "      <td>33.8</td>\n",
       "      <td>42.4</td>\n",
       "      <td>17.8</td>\n",
       "      <td>0.0</td>\n",
       "      <td>0.0</td>\n",
       "      <td>0.0</td>\n",
       "    </tr>\n",
       "    <tr>\n",
       "      <td>106298</td>\n",
       "      <td>46041</td>\n",
       "      <td>2020-05-01</td>\n",
       "      <td>Dewey</td>\n",
       "      <td>South Dakota</td>\n",
       "      <td>1.0</td>\n",
       "      <td>0.0</td>\n",
       "      <td>[0.0, 0.0, 0.0, 0.0, 0.0, 0.0, 0.0, 0.0, 0.0, ...</td>\n",
       "      <td>5709.0</td>\n",
       "      <td>776.0</td>\n",
       "      <td>14.4</td>\n",
       "      <td>35.6</td>\n",
       "      <td>34.0</td>\n",
       "      <td>16.0</td>\n",
       "      <td>0.0</td>\n",
       "      <td>0.0</td>\n",
       "      <td>0.0</td>\n",
       "    </tr>\n",
       "    <tr>\n",
       "      <td>106299</td>\n",
       "      <td>48043</td>\n",
       "      <td>2020-05-01</td>\n",
       "      <td>Brewster</td>\n",
       "      <td>Texas</td>\n",
       "      <td>1.0</td>\n",
       "      <td>0.0</td>\n",
       "      <td>[0.0, 0.0, 0.0, 0.0, 0.0, 0.0, 0.0, 0.0, 0.0, ...</td>\n",
       "      <td>9220.0</td>\n",
       "      <td>2537.0</td>\n",
       "      <td>14.7</td>\n",
       "      <td>20.4</td>\n",
       "      <td>25.5</td>\n",
       "      <td>39.4</td>\n",
       "      <td>0.0</td>\n",
       "      <td>0.0</td>\n",
       "      <td>0.0</td>\n",
       "    </tr>\n",
       "    <tr>\n",
       "      <td>106300</td>\n",
       "      <td>55069</td>\n",
       "      <td>2020-05-01</td>\n",
       "      <td>Lincoln</td>\n",
       "      <td>Wisconsin</td>\n",
       "      <td>1.0</td>\n",
       "      <td>0.0</td>\n",
       "      <td>[0.0, 0.0, 0.0, 0.0, 0.0, 0.0, 0.0, 0.0, 0.0, ...</td>\n",
       "      <td>27994.0</td>\n",
       "      <td>7702.0</td>\n",
       "      <td>8.7</td>\n",
       "      <td>38.5</td>\n",
       "      <td>34.5</td>\n",
       "      <td>18.3</td>\n",
       "      <td>0.0</td>\n",
       "      <td>0.0</td>\n",
       "      <td>0.0</td>\n",
       "    </tr>\n",
       "  </tbody>\n",
       "</table>\n",
       "<p>106301 rows × 16 columns</p>\n",
       "</div>"
      ],
      "text/plain": [
       "         fips       date     county         state  cases  deaths  \\\n",
       "0       53061 2020-01-21  Snohomish    Washington    1.0     0.0   \n",
       "1       53061 2020-01-22  Snohomish    Washington    0.0     0.0   \n",
       "2       53061 2020-01-23  Snohomish    Washington    0.0     0.0   \n",
       "3       53061 2020-01-24  Snohomish    Washington    0.0     0.0   \n",
       "4       53061 2020-01-25  Snohomish    Washington    0.0     0.0   \n",
       "...       ...        ...        ...           ...    ...     ...   \n",
       "106296  27065 2020-05-01    Kanabec     Minnesota    1.0     0.0   \n",
       "106297  38075 2020-05-01   Renville  North Dakota    1.0     0.0   \n",
       "106298  46041 2020-05-01      Dewey  South Dakota    1.0     0.0   \n",
       "106299  48043 2020-05-01   Brewster         Texas    1.0     0.0   \n",
       "106300  55069 2020-05-01    Lincoln     Wisconsin    1.0     0.0   \n",
       "\n",
       "                                           states_encoded  total_pop  \\\n",
       "0       [0.0, 0.0, 0.0, 0.0, 0.0, 0.0, 0.0, 0.0, 0.0, ...   771904.0   \n",
       "1       [0.0, 0.0, 0.0, 0.0, 0.0, 0.0, 0.0, 0.0, 0.0, ...   771904.0   \n",
       "2       [0.0, 0.0, 0.0, 0.0, 0.0, 0.0, 0.0, 0.0, 0.0, ...   771904.0   \n",
       "3       [0.0, 0.0, 0.0, 0.0, 0.0, 0.0, 0.0, 0.0, 0.0, ...   771904.0   \n",
       "4       [0.0, 0.0, 0.0, 0.0, 0.0, 0.0, 0.0, 0.0, 0.0, ...   771904.0   \n",
       "...                                                   ...        ...   \n",
       "106296  [0.0, 0.0, 0.0, 0.0, 0.0, 0.0, 0.0, 0.0, 0.0, ...    15948.0   \n",
       "106297  [0.0, 0.0, 0.0, 0.0, 0.0, 0.0, 0.0, 0.0, 0.0, ...     2543.0   \n",
       "106298  [0.0, 0.0, 0.0, 0.0, 0.0, 0.0, 0.0, 0.0, 0.0, ...     5709.0   \n",
       "106299  [0.0, 0.0, 0.0, 0.0, 0.0, 0.0, 0.0, 0.0, 0.0, ...     9220.0   \n",
       "106300  [0.0, 0.0, 0.0, 0.0, 0.0, 0.0, 0.0, 0.0, 0.0, ...    27994.0   \n",
       "\n",
       "          60plus  \\\n",
       "0       143234.0   \n",
       "1       143234.0   \n",
       "2       143234.0   \n",
       "3       143234.0   \n",
       "4       143234.0   \n",
       "...          ...   \n",
       "106296    4382.0   \n",
       "106297     613.0   \n",
       "106298     776.0   \n",
       "106299    2537.0   \n",
       "106300    7702.0   \n",
       "\n",
       "        Percent of adults with less than a high school diploma, 2014-18  \\\n",
       "0                                                     7.8                 \n",
       "1                                                     7.8                 \n",
       "2                                                     7.8                 \n",
       "3                                                     7.8                 \n",
       "4                                                     7.8                 \n",
       "...                                                   ...                 \n",
       "106296                                                9.6                 \n",
       "106297                                                6.0                 \n",
       "106298                                               14.4                 \n",
       "106299                                               14.7                 \n",
       "106300                                                8.7                 \n",
       "\n",
       "        Percent of adults with a high school diploma only, 2014-18  \\\n",
       "0                                                    23.8            \n",
       "1                                                    23.8            \n",
       "2                                                    23.8            \n",
       "3                                                    23.8            \n",
       "4                                                    23.8            \n",
       "...                                                   ...            \n",
       "106296                                               40.2            \n",
       "106297                                               33.8            \n",
       "106298                                               35.6            \n",
       "106299                                               20.4            \n",
       "106300                                               38.5            \n",
       "\n",
       "        Percent of adults completing some college or associate's degree, 2014-18  \\\n",
       "0                                                    36.6                          \n",
       "1                                                    36.6                          \n",
       "2                                                    36.6                          \n",
       "3                                                    36.6                          \n",
       "4                                                    36.6                          \n",
       "...                                                   ...                          \n",
       "106296                                               35.6                          \n",
       "106297                                               42.4                          \n",
       "106298                                               34.0                          \n",
       "106299                                               25.5                          \n",
       "106300                                               34.5                          \n",
       "\n",
       "        Percent of adults with a bachelor's degree or higher, 2014-18  \\\n",
       "0                                                    31.9               \n",
       "1                                                    31.9               \n",
       "2                                                    31.9               \n",
       "3                                                    31.9               \n",
       "4                                                    31.9               \n",
       "...                                                   ...               \n",
       "106296                                               14.6               \n",
       "106297                                               17.8               \n",
       "106298                                               16.0               \n",
       "106299                                               39.4               \n",
       "106300                                               18.3               \n",
       "\n",
       "        samples  m50  m50_index  \n",
       "0           0.0  0.0        0.0  \n",
       "1           0.0  0.0        0.0  \n",
       "2           0.0  0.0        0.0  \n",
       "3           0.0  0.0        0.0  \n",
       "4           0.0  0.0        0.0  \n",
       "...         ...  ...        ...  \n",
       "106296      0.0  0.0        0.0  \n",
       "106297      0.0  0.0        0.0  \n",
       "106298      0.0  0.0        0.0  \n",
       "106299      0.0  0.0        0.0  \n",
       "106300      0.0  0.0        0.0  \n",
       "\n",
       "[106301 rows x 16 columns]"
      ]
     },
     "execution_count": 12,
     "metadata": {},
     "output_type": "execute_result"
    }
   ],
   "source": [
    "counties_df"
   ]
  },
  {
   "cell_type": "code",
   "execution_count": 35,
   "metadata": {},
   "outputs": [
    {
     "name": "stdout",
     "output_type": "stream",
     "text": [
      "Generating predictions:\n",
      "66\n",
      "[0.         0.         0.         1.09861229 0.         0.\n",
      " 0.         0.69314718 0.         0.         0.         0.\n",
      " 0.         0.69314718 0.         0.         0.         0.\n",
      " 1.60943791 0.         1.38629436 1.60943791 0.         0.69314718\n",
      " 0.         0.         1.09861229]\n",
      "66\n",
      "[1.09861229 1.09861229 0.         1.60943791 0.69314718 0.\n",
      " 0.         0.         0.         0.         0.         0.\n",
      " 1.09861229 0.         0.         0.69314718 0.         0.\n",
      " 0.69314718 0.         0.         0.         0.         0.\n",
      " 0.         1.09861229 0.        ]\n"
     ]
    },
    {
     "data": {
      "image/png": "[encoded data removed]",
      "text/plain": [
       "<Figure size 432x288 with 1 Axes>"
      ]
     },
     "metadata": {
      "needs_background": "light"
     },
     "output_type": "display_data"
    },
    {
     "data": {
      "image/png": "[encoded data removed]",
      "text/plain": [
       "<Figure size 432x288 with 1 Axes>"
      ]
     },
     "metadata": {
      "needs_background": "light"
     },
     "output_type": "display_data"
    },
    {
     "data": {
      "text/plain": [
       "<Figure size 432x288 with 0 Axes>"
      ]
     },
     "metadata": {},
     "output_type": "display_data"
    }
   ],
   "source": [
    "plot_predicted_vs_true(model, inputs_total, conditions_total, counties_df, fips_many, split_point, 25, [snoho, la])"
   ]
  }
 ],
 "metadata": {
  "kernelspec": {
   "display_name": "Python 3",
   "language": "python",
   "name": "python3"
  },
  "language_info": {
   "codemirror_mode": {
    "name": "ipython",
    "version": 3
   },
   "file_extension": ".py",
   "mimetype": "text/x-python",
   "name": "python",
   "nbconvert_exporter": "python",
   "pygments_lexer": "ipython3",
   "version": "3.7.4"
  }
 },
 "nbformat": 4,
 "nbformat_minor": 2
}
