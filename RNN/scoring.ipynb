{
 "cells": [
  {
   "cell_type": "code",
   "execution_count": 1,
   "metadata": {},
   "outputs": [],
   "source": [
    "import pandas as pd \n",
    "import numpy as np\n",
    "import sys\n",
    "import traceback\n",
    "from tqdm.auto import tqdm"
   ]
  },
  {
   "cell_type": "code",
   "execution_count": 2,
   "metadata": {},
   "outputs": [],
   "source": [
    "csv_to_score = '../sample_submission.csv'\n",
    "\n",
    "def get_date(x):\n",
    "    return '-'.join(x.split('-')[:3])\n",
    "def get_fips(x):\n",
    "    return x.split('-')[-1]\n",
    "def pinball_loss(y_true, y_pred, quantile = 0.5):\n",
    "    delta = y_true - y_pred\n",
    "    loss_above = np.sum(delta[delta > 0])*(quantile)\n",
    "    loss_below = np.sum(-1*delta[delta < 0])*(1-quantile)\n",
    "    return (loss_above + loss_below) / len(y_true)\n",
    "def evaluate(test_df, user_df):\n",
    "    join_df = test_df.join(user_df, how = 'inner')\n",
    "    if(len(join_df) != len(test_df)):\n",
    "        sys.stderr.write(\"Submission not right length. \\n\")\n",
    "        raise Exception(\"Submission not right length\")\n",
    "    if(user_df.isna().sum().sum() > 0 ):\n",
    "        sys.stderr.write(\"Submission contains NaN. \\n\")\n",
    "        raise Exception(\"Submission Contains NaN.\")\n",
    "    if(join_df.index.equals(test_df.index) == False):\n",
    "        sys.stderr.write(\"Incorrect ID format in Submission. \\n\")\n",
    "        raise Exception(\"Incorrect ID format.\")\n",
    "    total_loss = 0\n",
    "    for column in ['10','20','30','40','50', '60', '70', '80', '90']:\n",
    "        quantile = int(column) / 100.0\n",
    "        total_loss += pinball_loss(join_df['deaths'].values, join_df[column].values, quantile) / 9.0\n",
    "    return total_loss"
   ]
  },
  {
   "cell_type": "code",
   "execution_count": 3,
   "metadata": {},
   "outputs": [
    {
     "name": "stdout",
     "output_type": "stream",
     "text": [
      "Got score of 0.293049\n"
     ]
    }
   ],
   "source": [
    "start_date = '2020-04-24' # First date to include in scoring\n",
    "\n",
    "daily_df = pd.read_csv('../data/us/covid/nyt_us_counties_daily.csv')\n",
    "daily_df = daily_df[daily_df['state'].notna()]\n",
    "daily_df['fips'] = daily_df['fips'].astype(int)\n",
    "end_date = daily_df['date'].max()\n",
    "daily_df['id'] = daily_df['date'] +'-'+ daily_df['fips'].astype(str)\n",
    "preperiod_df = daily_df[(daily_df['date'] < start_date)]\n",
    "daily_df = daily_df[(daily_df['date'] <= end_date)  & (daily_df['date'] >= start_date)]\n",
    "\n",
    "sample_submission = pd.read_csv('../sample_submission.csv') # Load the sample submission with all 0's\n",
    "sample_submission['date'] = sample_submission['id'].apply(get_date)\n",
    "sample_submission['fips'] = sample_submission['id'].apply(get_fips).astype('int')\n",
    "sample_submission = sample_submission[(sample_submission['date'] <= end_date)  & (sample_submission['date'] >= start_date)]\n",
    "\n",
    "# Disabled FIPS is a set of FIPS to avoid scoring. Covid_active_fips is where there has been reports of covid, \n",
    "# and inactive_fips are fips codes present in sample submission but with no cases reported by the New York Times.\n",
    "# New_active_fips are FIPS that were introduced into the dataset during the scoring period. \n",
    "# Active FIPS should be scored against deaths data from NYT if such data is available, \n",
    "# but Inactive FIPS should be scored with a target of 0.\n",
    "disabled_fips = set({})\n",
    "prev_active_fips = set(preperiod_df.fips.unique())\n",
    "curr_active_fips = set(daily_df.fips.unique())\n",
    "all_fips = set(sample_submission.fips.unique())\n",
    "covid_active_fips = prev_active_fips.intersection(all_fips).intersection(curr_active_fips) - disabled_fips\n",
    "inactive_fips = all_fips - prev_active_fips - curr_active_fips - disabled_fips\n",
    "new_active_fips = (curr_active_fips - prev_active_fips).intersection(all_fips) - disabled_fips\n",
    "\n",
    "# Create a DataFrame of all 0's for inactive fips by getting those from sample submission.\n",
    "inactive_df = sample_submission.set_index('fips')[['id','50']].loc[inactive_fips]\n",
    "inactive_df = inactive_df.set_index('id').rename({'50':'deaths'}, axis = 1)\n",
    "assert(inactive_df.sum().sum() == 0)\n",
    "# Create a DataFrame of active fips from the New York Times data\n",
    "active_df = daily_df.set_index('fips')[['id', 'deaths']].loc[covid_active_fips].set_index('id')\n",
    "\n",
    "# Create dataframe for new fips\n",
    "sample_search = sample_submission.set_index('fips')[['id','50']].rename({'50':'deaths'}, axis = 1)\n",
    "daily_search = daily_df.set_index('fips')\n",
    "new_df_arr = []\n",
    "for fips in new_active_fips:\n",
    "    tmp_sample = sample_search.loc[[fips]].set_index('id')\n",
    "    tmp_daily = daily_search.loc[[fips]].set_index('id')\n",
    "    tmp_sample.update(tmp_daily)\n",
    "    tmp_sample = tmp_sample[tmp_sample.index <= tmp_daily.index.max()]\n",
    "    new_df_arr.append(tmp_sample)\n",
    "\n",
    "# Join the data frames\n",
    "example = None\n",
    "if(len(new_active_fips) > 0):\n",
    "    new_df = pd.concat(new_df_arr)\n",
    "    example = pd.concat([inactive_df, active_df, new_df]).sort_index()\n",
    "else:\n",
    "    example = pd.concat([inactive_df, active_df]).sort_index()\n",
    "# Read some CSV for score\n",
    "df = pd.read_csv(csv_to_score).set_index('id').sort_index()\n",
    "score = evaluate(example[['deaths']], df)\n",
    "print('Got score of {:.6f}'.format(score))\n"
   ]
  },
  {
   "cell_type": "code",
   "execution_count": null,
   "metadata": {},
   "outputs": [],
   "source": []
  }
 ],
 "metadata": {
  "kernelspec": {
   "display_name": "Python 3",
   "language": "python",
   "name": "python3"
  },
  "language_info": {
   "codemirror_mode": {
    "name": "ipython",
    "version": 3
   },
   "file_extension": ".py",
   "mimetype": "text/x-python",
   "name": "python",
   "nbconvert_exporter": "python",
   "pygments_lexer": "ipython3",
   "version": "3.7.4"
  }
 },
 "nbformat": 4,
 "nbformat_minor": 2
}
