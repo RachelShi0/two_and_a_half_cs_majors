{
 "cells": [
  {
   "cell_type": "code",
   "execution_count": 1,
   "metadata": {},
   "outputs": [],
   "source": [
    "import git\n",
    "import datetime\n",
    "\n",
    "import pandas as pd\n",
    "import numpy as np\n",
    "import tensorflow as tf\n",
    "import matplotlib.pyplot as plt\n",
    "\n",
    "from tensorflow.keras.models import Sequential\n",
    "from tensorflow.keras.layers import Dense\n",
    "from tensorflow.keras.layers import LSTM\n",
    "from tensorflow.keras.preprocessing.sequence import TimeseriesGenerator\n",
    "\n",
    "from cond_rnn import ConditionalRNN\n",
    "\n",
    "from sklearn.preprocessing import OneHotEncoder\n"
   ]
  },
  {
   "cell_type": "code",
   "execution_count": 2,
   "metadata": {},
   "outputs": [],
   "source": [
    "repo = git.Repo(\"./\", search_parent_directories=True)\n",
    "homedir = repo.working_dir"
   ]
  },
  {
   "cell_type": "code",
   "execution_count": 3,
   "metadata": {},
   "outputs": [],
   "source": [
    "#import daily covid cases per county\n",
    "counties_df = pd.read_csv(f\"{homedir}/data/us/covid/nyt_us_counties_daily.csv\")\n",
    "counties_df = counties_df[counties_df['state'].notna()] #drop rows where state is NaN value\n",
    "\n",
    "#one hot encode states and add column to dataframe\n",
    "one_hot_encoder = OneHotEncoder(handle_unknown='ignore')\n",
    "states = np.array(counties_df['state']).reshape(-1, 1)\n",
    "one_hot_encoder.fit(states)\n",
    "states_encoded = one_hot_encoder.transform(states).toarray()\n",
    "\n",
    "counties_df['states_encoded'] = states_encoded.tolist() #add column to dataframe\n",
    "\n",
    "#convert date to datetime format\n",
    "counties_df['date'] = pd.to_datetime(counties_df['date'])"
   ]
  },
  {
   "cell_type": "code",
   "execution_count": 4,
   "metadata": {},
   "outputs": [
    {
     "data": {
      "text/html": [
       "<div>\n",
       "<style scoped>\n",
       "    .dataframe tbody tr th:only-of-type {\n",
       "        vertical-align: middle;\n",
       "    }\n",
       "\n",
       "    .dataframe tbody tr th {\n",
       "        vertical-align: top;\n",
       "    }\n",
       "\n",
       "    .dataframe thead th {\n",
       "        text-align: right;\n",
       "    }\n",
       "</style>\n",
       "<table border=\"1\" class=\"dataframe\">\n",
       "  <thead>\n",
       "    <tr style=\"text-align: right;\">\n",
       "      <th></th>\n",
       "      <th>fips</th>\n",
       "      <th>date</th>\n",
       "      <th>county</th>\n",
       "      <th>state</th>\n",
       "      <th>cases</th>\n",
       "      <th>deaths</th>\n",
       "      <th>states_encoded</th>\n",
       "    </tr>\n",
       "  </thead>\n",
       "  <tbody>\n",
       "    <tr>\n",
       "      <td>0</td>\n",
       "      <td>53061</td>\n",
       "      <td>2020-01-21</td>\n",
       "      <td>Snohomish</td>\n",
       "      <td>Washington</td>\n",
       "      <td>1.0</td>\n",
       "      <td>0.0</td>\n",
       "      <td>[0.0, 0.0, 0.0, 0.0, 0.0, 0.0, 0.0, 0.0, 0.0, ...</td>\n",
       "    </tr>\n",
       "    <tr>\n",
       "      <td>1</td>\n",
       "      <td>53061</td>\n",
       "      <td>2020-01-22</td>\n",
       "      <td>Snohomish</td>\n",
       "      <td>Washington</td>\n",
       "      <td>0.0</td>\n",
       "      <td>0.0</td>\n",
       "      <td>[0.0, 0.0, 0.0, 0.0, 0.0, 0.0, 0.0, 0.0, 0.0, ...</td>\n",
       "    </tr>\n",
       "    <tr>\n",
       "      <td>2</td>\n",
       "      <td>53061</td>\n",
       "      <td>2020-01-23</td>\n",
       "      <td>Snohomish</td>\n",
       "      <td>Washington</td>\n",
       "      <td>0.0</td>\n",
       "      <td>0.0</td>\n",
       "      <td>[0.0, 0.0, 0.0, 0.0, 0.0, 0.0, 0.0, 0.0, 0.0, ...</td>\n",
       "    </tr>\n",
       "    <tr>\n",
       "      <td>3</td>\n",
       "      <td>53061</td>\n",
       "      <td>2020-01-24</td>\n",
       "      <td>Snohomish</td>\n",
       "      <td>Washington</td>\n",
       "      <td>0.0</td>\n",
       "      <td>0.0</td>\n",
       "      <td>[0.0, 0.0, 0.0, 0.0, 0.0, 0.0, 0.0, 0.0, 0.0, ...</td>\n",
       "    </tr>\n",
       "    <tr>\n",
       "      <td>4</td>\n",
       "      <td>53061</td>\n",
       "      <td>2020-01-25</td>\n",
       "      <td>Snohomish</td>\n",
       "      <td>Washington</td>\n",
       "      <td>0.0</td>\n",
       "      <td>0.0</td>\n",
       "      <td>[0.0, 0.0, 0.0, 0.0, 0.0, 0.0, 0.0, 0.0, 0.0, ...</td>\n",
       "    </tr>\n",
       "  </tbody>\n",
       "</table>\n",
       "</div>"
      ],
      "text/plain": [
       "    fips       date     county       state  cases  deaths  \\\n",
       "0  53061 2020-01-21  Snohomish  Washington    1.0     0.0   \n",
       "1  53061 2020-01-22  Snohomish  Washington    0.0     0.0   \n",
       "2  53061 2020-01-23  Snohomish  Washington    0.0     0.0   \n",
       "3  53061 2020-01-24  Snohomish  Washington    0.0     0.0   \n",
       "4  53061 2020-01-25  Snohomish  Washington    0.0     0.0   \n",
       "\n",
       "                                      states_encoded  \n",
       "0  [0.0, 0.0, 0.0, 0.0, 0.0, 0.0, 0.0, 0.0, 0.0, ...  \n",
       "1  [0.0, 0.0, 0.0, 0.0, 0.0, 0.0, 0.0, 0.0, 0.0, ...  \n",
       "2  [0.0, 0.0, 0.0, 0.0, 0.0, 0.0, 0.0, 0.0, 0.0, ...  \n",
       "3  [0.0, 0.0, 0.0, 0.0, 0.0, 0.0, 0.0, 0.0, 0.0, ...  \n",
       "4  [0.0, 0.0, 0.0, 0.0, 0.0, 0.0, 0.0, 0.0, 0.0, ...  "
      ]
     },
     "execution_count": 4,
     "metadata": {},
     "output_type": "execute_result"
    }
   ],
   "source": [
    "counties_df.head()"
   ]
  },
  {
   "cell_type": "code",
   "execution_count": 5,
   "metadata": {},
   "outputs": [],
   "source": [
    "#preprocessing functions \n",
    "\n",
    "def minmax_scaler(x): \n",
    "    if max(x) == min(x):\n",
    "        return x, min(x), max(x)\n",
    "    else:\n",
    "        scaled_x = (x - min(x))/(max(x) - min(x))\n",
    "        return scaled_x, min(x), max(x)\n",
    "    \n",
    "def piecewise_log(arr):\n",
    "    arr[arr == 0] = 1\n",
    "    return np.log(arr)"
   ]
  },
  {
   "cell_type": "code",
   "execution_count": 20,
   "metadata": {},
   "outputs": [
    {
     "data": {
      "image/png": "[encoded data removed]",
      "text/plain": [
       "<Figure size 432x288 with 1 Axes>"
      ]
     },
     "metadata": {
      "needs_background": "light"
     },
     "output_type": "display_data"
    },
    {
     "data": {
      "text/plain": [
       "<Figure size 432x288 with 0 Axes>"
      ]
     },
     "metadata": {},
     "output_type": "display_data"
    }
   ],
   "source": [
    "split_point = 40 #for splitting into training and testing data\n",
    "\n",
    "#initialize lists\n",
    "inputs_total = []\n",
    "conditions_total = []\n",
    "\n",
    "train_inputs = []\n",
    "train_targets = []\n",
    "train_conditions = []\n",
    "\n",
    "test_inputs = []\n",
    "test_targets = []\n",
    "test_conditions = []\n",
    "\n",
    "fips = set(np.array(counties_df['fips'])) #list of unique fips\n",
    "\n",
    "dateshift = 35 #so here the first 35 days are like all 0 so i shifted the data we're interested in back by 35 days\n",
    "daterange = pd.date_range(min(counties_df['date'] + datetime.timedelta(days = dateshift)),\n",
    "                          max(counties_df['date'])).tolist() #range of dates \n",
    "\n",
    "\n",
    "fips_fewcases = [] #store fips of cases that are too few to model\n",
    "fips_manycases = [] #store fips of cases that we are modeling with RNN\n",
    "\n",
    "for i in fips: #iterate through counties \n",
    "    c_df = counties_df[counties_df['fips'] == i] #county specific dataframe\n",
    "        \n",
    "    if max(c_df['deaths']) <= 2: #don't do anything if there are too few cases \n",
    "        fips_fewcases.append(i)\n",
    "    \n",
    "    elif max(c_df['deaths']) > 2:\n",
    "        fips_manycases.append(i)\n",
    "        \n",
    "        x1 = np.zeros(len(daterange)) #x1 stores cases\n",
    "        x2 = np.zeros(len(daterange)) #x2 stores deaths\n",
    "\n",
    "        c_daterange = c_df['date'].tolist() #daterange for this specific counties\n",
    "\n",
    "        for j in range(len(daterange)): #populating time series data for each county  \n",
    "            if daterange[j] in c_daterange: #if there is data for the county for this date, populate x1 and x2\n",
    "                x1[j] = c_df[c_df['date'] == daterange[j]]['cases'].values[0]\n",
    "                x2[j] = c_df[c_df['date'] == daterange[j]]['deaths'].values[0]\n",
    "\n",
    "        days = np.arange(0, len(x1)) #range of days... to indicate progression of disease?\n",
    "        \n",
    "        plt.plot(days, x2) #plot deaths\n",
    "        \n",
    "        x = np.stack((piecewise_log(x1), piecewise_log(x2), days), axis = 1) #construct input data\n",
    "        \n",
    "        x_train = x[:split_point] #split into training and testing\n",
    "        x_test = x[split_point:]\n",
    "        \n",
    "        inputs_total.append(x)\n",
    "        \n",
    "        #construct conditions... one hot encoded states\n",
    "        p = counties_df[counties_df['fips'] == i]['states_encoded'].values[0]\n",
    "        conditions_total.append(np.array(p))\n",
    "        \n",
    "        #break up into little batch thingies\n",
    "        data_gen_train = TimeseriesGenerator(x_train, x_train,\n",
    "                                       length=10, sampling_rate=1,\n",
    "                                       batch_size=2)\n",
    "        \n",
    "        data_gen_test = TimeseriesGenerator(x_test, x_test,\n",
    "                                       length=10, sampling_rate=1,\n",
    "                                       batch_size=2)\n",
    "\n",
    "        #construct training data\n",
    "        for k in range(len(data_gen_train)):\n",
    "            x_b, y_b = data_gen_train[k]\n",
    "            \n",
    "            for l in range(len(x_b)):\n",
    "\n",
    "                x_batch = x_b[l]\n",
    "                y_batch = y_b[l]\n",
    "                \n",
    "                train_inputs.append(x_batch)\n",
    "                train_targets.append(y_batch)\n",
    "\n",
    "                #conditions   \n",
    "                train_conditions.append(np.array(p))\n",
    "        \n",
    "        #construct test data\n",
    "        for k in range(len(data_gen_test)):\n",
    "            x_b, y_b = data_gen_test[k]\n",
    "            \n",
    "            for l in range(len(x_b)):\n",
    "\n",
    "                x_batch = x_b[l]\n",
    "                y_batch = y_b[l]\n",
    "                \n",
    "                test_inputs.append(x_batch)\n",
    "                test_targets.append(y_batch)\n",
    "\n",
    "                #conditions   \n",
    "                test_conditions.append(np.array(p))\n",
    "\n",
    "plt.title('Deaths over time in each county')\n",
    "plt.figure()\n",
    "                \n",
    "#make things into arrays\n",
    "test_inputs = np.array(test_inputs)\n",
    "test_targets = np.array(test_targets)\n",
    "test_conditions = np.array(test_conditions)\n",
    "\n",
    "train_inputs = np.array(train_inputs)\n",
    "train_targets = np.array(train_targets)\n",
    "train_conditions = np.array(train_conditions)\n",
    "\n",
    "inputs_total = np.array(inputs_total)\n",
    "conditions_total = np.array(conditions_total)"
   ]
  },
  {
   "cell_type": "code",
   "execution_count": 21,
   "metadata": {},
   "outputs": [
    {
     "name": "stdout",
     "output_type": "stream",
     "text": [
      "(11070, 10, 3)\n",
      "(11070, 3)\n",
      "(11070, 52)\n"
     ]
    }
   ],
   "source": [
    "print(train_inputs.shape)\n",
    "print(train_targets.shape)\n",
    "print(train_conditions.shape)"
   ]
  },
  {
   "cell_type": "code",
   "execution_count": 22,
   "metadata": {},
   "outputs": [
    {
     "name": "stdout",
     "output_type": "stream",
     "text": [
      "(4059, 10, 3)\n",
      "(4059, 3)\n",
      "(4059, 52)\n"
     ]
    }
   ],
   "source": [
    "print(test_inputs.shape)\n",
    "print(test_targets.shape)\n",
    "print(test_conditions.shape)"
   ]
  },
  {
   "cell_type": "code",
   "execution_count": 23,
   "metadata": {},
   "outputs": [],
   "source": [
    "#if we ever need to invert minmax but i dont think we should use it\n",
    "def inverse_minmax(scaled_x, min_x, max_x):\n",
    "    if max(x) == min(x):\n",
    "        return x, min(x), max(x)\n",
    "    else:\n",
    "        unscaled_x = scaled_x * (max_x - min_x) + min_x\n",
    "        return unscaled_x, min_x, max_x"
   ]
  },
  {
   "cell_type": "code",
   "execution_count": 24,
   "metadata": {},
   "outputs": [
    {
     "name": "stdout",
     "output_type": "stream",
     "text": [
      "WARNING:tensorflow:Layer dense_25 is casting an input tensor from dtype float64 to the layer's dtype of float32, which is new behavior in TensorFlow 2.  The layer has dtype float32 because it's dtype defaults to floatx.\n",
      "\n",
      "If you intended to run this layer in float32, you can safely ignore this warning. If in doubt, this warning is likely only an issue if you are porting a TensorFlow 1.X model to TensorFlow 2.\n",
      "\n",
      "To change all layers to have dtype float64 by default, call `tf.keras.backend.set_floatx('float64')`. To change just this layer, pass dtype='float64' to the layer constructor. If you are the author of this layer, you can disable autocasting by passing autocast=False to the base Layer constructor.\n",
      "\n",
      "WARNING:tensorflow:Layer dense_37 is casting an input tensor from dtype float64 to the layer's dtype of float32, which is new behavior in TensorFlow 2.  The layer has dtype float32 because it's dtype defaults to floatx.\n",
      "\n",
      "If you intended to run this layer in float32, you can safely ignore this warning. If in doubt, this warning is likely only an issue if you are porting a TensorFlow 1.X model to TensorFlow 2.\n",
      "\n",
      "To change all layers to have dtype float64 by default, call `tf.keras.backend.set_floatx('float64')`. To change just this layer, pass dtype='float64' to the layer constructor. If you are the author of this layer, you can disable autocasting by passing autocast=False to the base Layer constructor.\n",
      "\n",
      "Train on 11070 samples, validate on 4059 samples\n",
      "Epoch 1/10\n",
      "11070/11070 [==============================] - 26s 2ms/sample - loss: 52.7280 - val_loss: 321.6685\n",
      "Epoch 2/10\n",
      "11070/11070 [==============================] - 11s 967us/sample - loss: 10.1263 - val_loss: 159.6052\n",
      "Epoch 3/10\n",
      "11070/11070 [==============================] - 11s 1ms/sample - loss: 0.8070 - val_loss: 116.3771\n",
      "Epoch 4/10\n",
      "11070/11070 [==============================] - 10s 914us/sample - loss: 0.3662 - val_loss: 100.0422\n",
      "Epoch 5/10\n",
      "11070/11070 [==============================] - 9s 818us/sample - loss: 0.2770 - val_loss: 90.1844\n",
      "Epoch 6/10\n",
      "11070/11070 [==============================] - 11s 1ms/sample - loss: 0.2398 - val_loss: 83.5159\n",
      "Epoch 7/10\n",
      "11070/11070 [==============================] - 9s 850us/sample - loss: 0.2216 - val_loss: 78.6521\n",
      "Epoch 8/10\n",
      "11070/11070 [==============================] - 12s 1ms/sample - loss: 0.2182 - val_loss: 74.9485\n",
      "Epoch 9/10\n",
      "11070/11070 [==============================] - 15s 1ms/sample - loss: 0.2013 - val_loss: 71.5990\n",
      "Epoch 10/10\n",
      "11070/11070 [==============================] - 10s 874us/sample - loss: 0.2003 - val_loss: 68.4030\n",
      "Evaluating model:\n",
      "4059/4059 [==============================] - 1s 171us/sample - loss: 68.4030\n"
     ]
    },
    {
     "data": {
      "text/plain": [
       "68.40297006145138"
      ]
     },
     "execution_count": 24,
     "metadata": {},
     "output_type": "execute_result"
    }
   ],
   "source": [
    "#construct RNN\n",
    "class MySimpleModel(tf.keras.Model):\n",
    "    def __init__(self):\n",
    "        super(MySimpleModel, self).__init__() #allows you to inherit methods from tf.keras.Model I think\n",
    "        self.cond = ConditionalRNN(20, cell='LSTM', dtype=tf.float32, return_sequences=True)\n",
    "        self.cond2 = ConditionalRNN(12, cell='LSTM', dtype=tf.float32)\n",
    "    \n",
    "        self.out = tf.keras.layers.Dense(units=3)\n",
    "\n",
    "    def call(self, inputs, **kwargs):\n",
    "        x, cond = inputs\n",
    "        o = self.cond([x, cond])\n",
    "        o = self.cond2([o, cond])\n",
    "        o = self.out(o)\n",
    "        return o\n",
    "\n",
    "model = MySimpleModel()\n",
    "\n",
    "\n",
    "optimizer = tf.keras.optimizers.Adam(learning_rate=0.01)\n",
    "model.call([train_inputs, train_conditions])\n",
    "model.compile(optimizer=optimizer, loss='mean_squared_error')\n",
    "history = model.fit(x=[train_inputs, train_conditions], y= train_targets, \n",
    "                    validation_data=([test_inputs, test_conditions], test_targets), epochs=10)\n",
    "\n",
    "print('Evaluating model:')\n",
    "model.evaluate([test_inputs, test_conditions], test_targets)"
   ]
  },
  {
   "cell_type": "code",
   "execution_count": 25,
   "metadata": {},
   "outputs": [
    {
     "data": {
      "image/png": "[encoded data removed]",
      "text/plain": [
       "<Figure size 432x288 with 1 Axes>"
      ]
     },
     "metadata": {
      "needs_background": "light"
     },
     "output_type": "display_data"
    }
   ],
   "source": [
    "#plot loss \n",
    "plt.plot(history.history['loss'], label='train')\n",
    "plt.plot(history.history['val_loss'], label='test')\n",
    "plt.legend()\n",
    "plt.title('Loss')\n",
    "plt.show()"
   ]
  },
  {
   "cell_type": "code",
   "execution_count": 26,
   "metadata": {},
   "outputs": [
    {
     "name": "stdout",
     "output_type": "stream",
     "text": [
      "(11070, 10, 3)\n",
      "(11070, 3)\n",
      "(11070, 3)\n"
     ]
    }
   ],
   "source": [
    "y = model.predict([train_inputs, train_conditions])\n",
    "print(train_inputs.shape)\n",
    "print(y.shape)\n",
    "print(train_targets.shape)"
   ]
  },
  {
   "cell_type": "code",
   "execution_count": 27,
   "metadata": {},
   "outputs": [
    {
     "data": {
      "image/png": "[encoded data removed]",
      "text/plain": [
       "<Figure size 432x288 with 1 Axes>"
      ]
     },
     "metadata": {
      "needs_background": "light"
     },
     "output_type": "display_data"
    }
   ],
   "source": [
    "#plot the predicted output to get an idea of what kind of values the model is producing\n",
    "plt.hist(y[:, 0])\n",
    "plt.title('Histogram of predicted value from training data')\n",
    "plt.show()"
   ]
  },
  {
   "cell_type": "code",
   "execution_count": 28,
   "metadata": {},
   "outputs": [],
   "source": [
    "#function for generating predictions T timesteps into the future \n",
    "#for county with index k\n",
    "\n",
    "def generate_predictions(model, inputs_total, conditions_total, T, k):\n",
    "    \n",
    "    inputs = inputs_total[k]\n",
    "    conditions = conditions_total\n",
    "    \n",
    "    y_predict = model.predict([[inputs], [conditions[k, :]]])\n",
    "    prediction = np.array([y_predict])\n",
    "    inputs = np.append(inputs, np.array(y_predict), axis = 0)\n",
    "    \n",
    "    print('Generating predictions:')\n",
    "    for i in range(T):\n",
    "        \n",
    "        y_predict = model.predict([[inputs], [conditions[k, :]]])\n",
    "        inputs = np.append(inputs, np.array(y_predict), axis = 0)\n",
    "        prediction = np.append(prediction, [y_predict], axis = 0)\n",
    "        \n",
    "    return inputs, prediction "
   ]
  },
  {
   "cell_type": "code",
   "execution_count": 40,
   "metadata": {
    "scrolled": false
   },
   "outputs": [
    {
     "name": "stdout",
     "output_type": "stream",
     "text": [
      "WARNING:tensorflow:Your input ran out of data; interrupting training. Make sure that your dataset or generator can generate at least `steps_per_epoch * epochs` batches (in this case, 2 batches). You may need to use the repeat() function when building your dataset.\n",
      "Generating predictions:\n",
      "WARNING:tensorflow:Your input ran out of data; interrupting training. Make sure that your dataset or generator can generate at least `steps_per_epoch * epochs` batches (in this case, 2 batches). You may need to use the repeat() function when building your dataset.\n",
      "WARNING:tensorflow:Your input ran out of data; interrupting training. Make sure that your dataset or generator can generate at least `steps_per_epoch * epochs` batches (in this case, 2 batches). You may need to use the repeat() function when building your dataset.\n",
      "WARNING:tensorflow:Your input ran out of data; interrupting training. Make sure that your dataset or generator can generate at least `steps_per_epoch * epochs` batches (in this case, 2 batches). You may need to use the repeat() function when building your dataset.\n",
      "WARNING:tensorflow:Your input ran out of data; interrupting training. Make sure that your dataset or generator can generate at least `steps_per_epoch * epochs` batches (in this case, 2 batches). You may need to use the repeat() function when building your dataset.\n",
      "WARNING:tensorflow:Your input ran out of data; interrupting training. Make sure that your dataset or generator can generate at least `steps_per_epoch * epochs` batches (in this case, 2 batches). You may need to use the repeat() function when building your dataset.\n",
      "WARNING:tensorflow:Your input ran out of data; interrupting training. Make sure that your dataset or generator can generate at least `steps_per_epoch * epochs` batches (in this case, 2 batches). You may need to use the repeat() function when building your dataset.\n",
      "WARNING:tensorflow:Your input ran out of data; interrupting training. Make sure that your dataset or generator can generate at least `steps_per_epoch * epochs` batches (in this case, 2 batches). You may need to use the repeat() function when building your dataset.\n",
      "WARNING:tensorflow:Your input ran out of data; interrupting training. Make sure that your dataset or generator can generate at least `steps_per_epoch * epochs` batches (in this case, 2 batches). You may need to use the repeat() function when building your dataset.\n",
      "WARNING:tensorflow:Your input ran out of data; interrupting training. Make sure that your dataset or generator can generate at least `steps_per_epoch * epochs` batches (in this case, 2 batches). You may need to use the repeat() function when building your dataset.\n",
      "WARNING:tensorflow:Your input ran out of data; interrupting training. Make sure that your dataset or generator can generate at least `steps_per_epoch * epochs` batches (in this case, 2 batches). You may need to use the repeat() function when building your dataset.\n",
      "WARNING:tensorflow:Your input ran out of data; interrupting training. Make sure that your dataset or generator can generate at least `steps_per_epoch * epochs` batches (in this case, 2 batches). You may need to use the repeat() function when building your dataset.\n",
      "WARNING:tensorflow:Your input ran out of data; interrupting training. Make sure that your dataset or generator can generate at least `steps_per_epoch * epochs` batches (in this case, 2 batches). You may need to use the repeat() function when building your dataset.\n",
      "WARNING:tensorflow:Your input ran out of data; interrupting training. Make sure that your dataset or generator can generate at least `steps_per_epoch * epochs` batches (in this case, 2 batches). You may need to use the repeat() function when building your dataset.\n",
      "WARNING:tensorflow:Your input ran out of data; interrupting training. Make sure that your dataset or generator can generate at least `steps_per_epoch * epochs` batches (in this case, 2 batches). You may need to use the repeat() function when building your dataset.\n",
      "WARNING:tensorflow:Your input ran out of data; interrupting training. Make sure that your dataset or generator can generate at least `steps_per_epoch * epochs` batches (in this case, 2 batches). You may need to use the repeat() function when building your dataset.\n",
      "WARNING:tensorflow:Your input ran out of data; interrupting training. Make sure that your dataset or generator can generate at least `steps_per_epoch * epochs` batches (in this case, 2 batches). You may need to use the repeat() function when building your dataset.\n",
      "WARNING:tensorflow:Your input ran out of data; interrupting training. Make sure that your dataset or generator can generate at least `steps_per_epoch * epochs` batches (in this case, 2 batches). You may need to use the repeat() function when building your dataset.\n",
      "WARNING:tensorflow:Your input ran out of data; interrupting training. Make sure that your dataset or generator can generate at least `steps_per_epoch * epochs` batches (in this case, 2 batches). You may need to use the repeat() function when building your dataset.\n",
      "WARNING:tensorflow:Your input ran out of data; interrupting training. Make sure that your dataset or generator can generate at least `steps_per_epoch * epochs` batches (in this case, 2 batches). You may need to use the repeat() function when building your dataset.\n",
      "WARNING:tensorflow:Your input ran out of data; interrupting training. Make sure that your dataset or generator can generate at least `steps_per_epoch * epochs` batches (in this case, 2 batches). You may need to use the repeat() function when building your dataset.\n"
     ]
    },
    {
     "data": {
      "text/plain": [
       "<function matplotlib.pyplot.figure(num=None, figsize=None, dpi=None, facecolor=None, edgecolor=None, frameon=True, FigureClass=<class 'matplotlib.figure.Figure'>, clear=False, **kwargs)>"
      ]
     },
     "execution_count": 40,
     "metadata": {},
     "output_type": "execute_result"
    },
    {
     "data": {
      "image/png": "[encoded data removed]",
      "text/plain": [
       "<Figure size 432x288 with 1 Axes>"
      ]
     },
     "metadata": {
      "needs_background": "light"
     },
     "output_type": "display_data"
    }
   ],
   "source": [
    "ind = 349\n",
    "\n",
    "county_title = counties_df[counties_df['fips'] == fips_manycases[ind]]['county'].values[0]\n",
    "\n",
    "I, P = generate_predictions(model, inputs_total[:, :split_point, :], conditions_total, 20, ind)\n",
    "\n",
    "plt.plot(range(len(I)), I[:, 1], label = 'predicted value')\n",
    "plt.plot(range(split_point - 1, len(I)), inputs_total[ind, split_point - 1:, 1], label = 'true value')\n",
    "plt.title(county_title + ' predictions')\n",
    "plt.legend()\n",
    "plt.figure"
   ]
  },
  {
   "cell_type": "code",
   "execution_count": null,
   "metadata": {},
   "outputs": [],
   "source": []
  }
 ],
 "metadata": {
  "kernelspec": {
   "display_name": "Python 3",
   "language": "python",
   "name": "python3"
  },
  "language_info": {
   "codemirror_mode": {
    "name": "ipython",
    "version": 3
   },
   "file_extension": ".py",
   "mimetype": "text/x-python",
   "name": "python",
   "nbconvert_exporter": "python",
   "pygments_lexer": "ipython3",
   "version": "3.7.4"
  }
 },
 "nbformat": 4,
 "nbformat_minor": 2
}
